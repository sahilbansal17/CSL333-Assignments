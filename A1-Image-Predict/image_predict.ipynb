{
 "cells": [
  {
   "cell_type": "markdown",
   "metadata": {
    "collapsed": true
   },
   "source": [
    "## Assignment 1 - Using Linear Regression to predict the pixels of larger image from a downsampled image"
   ]
  },
  {
   "cell_type": "markdown",
   "metadata": {},
   "source": [
    "### Reading the input image"
   ]
  },
  {
   "cell_type": "code",
   "execution_count": 1,
   "metadata": {},
   "outputs": [
    {
     "name": "stdout",
     "output_type": "stream",
     "text": [
      "(512, 512)\n"
     ]
    }
   ],
   "source": [
    "import cv2\n",
    "img = cv2.imread('standard_test_images/peppers_gray.tif', 0)\n",
    "print(img.shape)"
   ]
  },
  {
   "cell_type": "markdown",
   "metadata": {
    "collapsed": true
   },
   "source": [
    "### Display the input image"
   ]
  },
  {
   "cell_type": "code",
   "execution_count": 2,
   "metadata": {},
   "outputs": [
    {
     "data": {
      "text/plain": [
       "<Figure size 640x480 with 1 Axes>"
      ]
     },
     "metadata": {},
     "output_type": "display_data"
    }
   ],
   "source": [
    "import matplotlib.pyplot as plt\n",
    "plt.imshow(img, cmap = 'gray', interpolation = 'bicubic')\n",
    "plt.xticks([]), plt.yticks([])  # to hide tick values on X and Y axis\n",
    "plt.show()"
   ]
  },
  {
   "cell_type": "markdown",
   "metadata": {},
   "source": [
    "### Down sample the image by removing the pixels in alternate rows and columns"
   ]
  },
  {
   "cell_type": "code",
   "execution_count": 3,
   "metadata": {},
   "outputs": [
    {
     "name": "stdout",
     "output_type": "stream",
     "text": [
      "[[115 115 110 ... 174 171 169]\n",
      " [115 115 101 ... 174 169 169]\n",
      " [127 115 110 ... 174 174 164]\n",
      " ...\n",
      " [136 121 111 ... 193 197 205]\n",
      " [137 109 111 ... 205 205 193]\n",
      " [109 121 108 ... 193 197 197]]\n"
     ]
    }
   ],
   "source": [
    "print(img)"
   ]
  },
  {
   "cell_type": "code",
   "execution_count": 4,
   "metadata": {},
   "outputs": [
    {
     "name": "stdout",
     "output_type": "stream",
     "text": [
      "512 512\n"
     ]
    }
   ],
   "source": [
    "print(img.shape[0], img.shape[1])"
   ]
  },
  {
   "cell_type": "code",
   "execution_count": 5,
   "metadata": {},
   "outputs": [
    {
     "name": "stdout",
     "output_type": "stream",
     "text": [
      "[[115 110 110 ... 172 174 171]\n",
      " [127 110 110 ... 171 176 174]\n",
      " [115  97 101 ... 182 174 176]\n",
      " ...\n",
      " [128  93 133 ... 180 180 205]\n",
      " [136  98 111 ... 207 193 205]\n",
      " [137 111  93 ... 197 205 205]]\n"
     ]
    }
   ],
   "source": [
    "import numpy as np\n",
    "img = np.array(img)\n",
    "# all rows and every second column: \n",
    "# img_down_sampled = img[:, ::2] \n",
    "\n",
    "# all columns and every second row:\n",
    "# img_down_sampled = img[::2, :]\n",
    "\n",
    "# combining both of the above commented expressions\n",
    "# to select all alternate rows and columns\n",
    "img_down_sampled = img[::2, ::2]\n",
    "print(img_down_sampled)"
   ]
  },
  {
   "cell_type": "markdown",
   "metadata": {},
   "source": [
    "### Create the feature matrix (X) and the training data matrix (Y) required for linear regression"
   ]
  },
  {
   "cell_type": "code",
   "execution_count": 6,
   "metadata": {},
   "outputs": [],
   "source": [
    "# excluding the first and last rows and columns, every element is surrounded by 4 corner pixels\n",
    "# we can write the element as, e = ø1*a + ø2*b + ø3*c + ø4*d, where a, b, c and d are the corner pixels and øi's are \n",
    "# the parameters\n",
    "\n",
    "# remove the first and last rows and colums\n",
    "single_block = img_down_sampled[1:255, 1:255]\n",
    "# print(single_block.shape)\n",
    "\n",
    "rows_X_features = single_block.shape[0] * single_block.shape[1]\n",
    "# print(rows_X_features)\n",
    "\n",
    "# 4 neighbours for every cell in the single_block\n",
    "cols_X_features = 4 \n",
    "\n",
    "# for diagonal neighbours\n",
    "X_features_diag = []\n",
    "# for straight neighbours\n",
    "X_features_str = []\n",
    "# print(X_features.shape)\n",
    "Y_data = []\n",
    "\n",
    "def get_neighbours_diag(i, j):\n",
    "    neighbours = [0]*4\n",
    "    neighbours[0] = img_down_sampled[i - 1][j - 1] # upper left\n",
    "    neighbours[1] = img_down_sampled[i - 1][j + 1] # upper right \n",
    "    neighbours[2] = img_down_sampled[i + 1][j + 1] # bottom right\n",
    "    neighbours[3] = img_down_sampled[i + 1][j - 1] # bottom left\n",
    "    return neighbours\n",
    "\n",
    "def get_neighbours_str(i, j):\n",
    "    neighbours = [0]*4\n",
    "    neighbours[0] = img_down_sampled[i - i][j] # up\n",
    "    neighbours[1] = img_down_sampled[i][j + 1] # right\n",
    "    neighbours[2] = img_down_sampled[i + 1][j] # down\n",
    "    neighbours[3] = img_down_sampled[i][j - 1] # left\n",
    "    return neighbours\n",
    "\n",
    "for i in range(1, 255):\n",
    "    for j in range(1, 255):\n",
    "        X_features_diag.append(get_neighbours_diag(i, j))\n",
    "#         X_features_diag = np.append(X_features_diag, [get_neighbours_diag(i, j)], axis = 0)\n",
    "        X_features_str.append(get_neighbours_str(i, j))\n",
    "#         Y_data = np.append(Y_data, [[img_down_sampled[i][j]]], axis = 0)\n",
    "        Y_data.append([img_down_sampled[i][j]])"
   ]
  },
  {
   "cell_type": "code",
   "execution_count": 7,
   "metadata": {},
   "outputs": [
    {
     "name": "stdout",
     "output_type": "stream",
     "text": [
      "FEATURE MATRIX Diagonal Neighbours: \n",
      "[[115. 110. 101. 115.]\n",
      " [110. 116. 102.  97.]\n",
      " [110. 101. 101. 101.]\n",
      " ...\n",
      " [202. 180. 197. 193.]\n",
      " [202. 180. 205. 197.]\n",
      " [180. 205. 205. 197.]]\n",
      "\n",
      "FEATURE MATRIX Straight Neighbours: \n",
      "[[110. 110.  97. 127.]\n",
      " [110. 110. 101. 110.]\n",
      " [116. 102. 102. 110.]\n",
      " ...\n",
      " [179. 207. 197. 205.]\n",
      " [172. 193. 197. 197.]\n",
      " [174. 205. 205. 207.]]\n",
      "\n",
      "TRAINING DATA: \n",
      "[[110.]\n",
      " [110.]\n",
      " [110.]\n",
      " ...\n",
      " [197.]\n",
      " [207.]\n",
      " [193.]]\n"
     ]
    }
   ],
   "source": [
    "X_features_diag = np.array(X_features_diag, float)\n",
    "X_features_str = np.array(X_features_str, float)\n",
    "Y_data = np.array(Y_data, float)\n",
    "print(\"FEATURE MATRIX Diagonal Neighbours: \")\n",
    "print(X_features_diag)\n",
    "print(\"\\nFEATURE MATRIX Straight Neighbours: \")\n",
    "print(X_features_str)\n",
    "print(\"\\nTRAINING DATA: \")\n",
    "print(Y_data)"
   ]
  },
  {
   "cell_type": "markdown",
   "metadata": {},
   "source": [
    "### Apply least square error method to get the paramters "
   ]
  },
  {
   "cell_type": "code",
   "execution_count": 8,
   "metadata": {},
   "outputs": [
    {
     "name": "stdout",
     "output_type": "stream",
     "text": [
      "[[0.22072026]\n",
      " [0.27965734]\n",
      " [0.22205045]\n",
      " [0.28066165]]\n",
      "[[-0.00617148]\n",
      " [ 0.38503495]\n",
      " [ 0.2213459 ]\n",
      " [ 0.40212618]]\n"
     ]
    }
   ],
   "source": [
    "# Y = X.Ø, by least square error method, we get, ø = [X'X]^(-1).X'.Y\n",
    "from numpy.linalg import inv\n",
    "X_transpose = np.transpose(X_features_diag);\n",
    "para_diag = np.matmul(np.matmul(inv(np.matmul(X_transpose, X_features_diag)), X_transpose), Y_data)\n",
    "print(para_diag)\n",
    "\n",
    "X_transpose = np.transpose(X_features_str);\n",
    "para_str = np.matmul(np.matmul(inv(np.matmul(X_transpose, X_features_str)), X_transpose), Y_data)\n",
    "print(para_str)"
   ]
  },
  {
   "cell_type": "markdown",
   "metadata": {},
   "source": [
    "### Predict the missing pixels by applying the linear regression model"
   ]
  },
  {
   "cell_type": "code",
   "execution_count": 9,
   "metadata": {},
   "outputs": [
    {
     "name": "stdout",
     "output_type": "stream",
     "text": [
      "[[115.   0. 110. ...   0. 171.   0.]\n",
      " [  0.   0.   0. ...   0.   0.   0.]\n",
      " [127.   0. 110. ...   0. 174.   0.]\n",
      " ...\n",
      " [  0.   0.   0. ...   0.   0.   0.]\n",
      " [137.   0. 111. ...   0. 205.   0.]\n",
      " [  0.   0.   0. ...   0.   0.   0.]]\n"
     ]
    }
   ],
   "source": [
    "img_predict = np.array(img)\n",
    "# make the pixels in alternate rows and columns to be 0 \n",
    "# Note: While downsampling, we chose starting index to be 0,\n",
    "# but, while prediction, we have to chose starting index to be 1\n",
    "# since now we have to first set alternate rows to 0 \n",
    "# and then set alternate cols to 0,\n",
    "# we can't do both the things simultaneously\n",
    "img_predict[1::2, :] = 0\n",
    "img_predict[:, 1::2] = 0\n",
    "img_predict = np.array(img_predict, float)\n",
    "print(img_predict)"
   ]
  },
  {
   "cell_type": "markdown",
   "metadata": {},
   "source": [
    "#### For those cells, which have all 4 diagonals neighbours, predict the missing pixel"
   ]
  },
  {
   "cell_type": "code",
   "execution_count": 10,
   "metadata": {},
   "outputs": [
    {
     "name": "stdout",
     "output_type": "stream",
     "text": [
      "[[115.      0.    110.      0.    110.      0.    116.      0.   ]\n",
      " [  0.    116.215   0.    110.34    0.    112.018   0.    107.371]\n",
      " [127.      0.    110.      0.    110.      0.    110.      0.   ]\n",
      " [  0.    112.609   0.    104.693   0.    106.038   0.    103.859]\n",
      " [115.      0.     97.      0.    101.      0.    102.      0.   ]\n",
      " [  0.    109.211   0.    104.954   0.    104.118   0.    104.864]\n",
      " [115.      0.    110.      0.    110.      0.    101.      0.   ]\n",
      " [  0.    112.847   0.    110.34    0.    104.936   0.    104.606]]\n"
     ]
    }
   ],
   "source": [
    "def predict_pixel_diag(i, j):\n",
    "    neighbours = np.array([img_predict[i - 1][j - 1], img_predict[i - 1][j + 1], img_predict[i + 1][j + 1], img_predict[i + 1][j - 1]])\n",
    "    pixel = np.matmul(neighbours, para_diag)\n",
    "    return pixel\n",
    "\n",
    "# print(img_predict[:8, :8])\n",
    "\n",
    "for i in range(1, 510, 2):\n",
    "    for j in range(1, 510, 2):\n",
    "        img_predict[i, j] = predict_pixel_diag(i, j)\n",
    "        \n",
    "np.set_printoptions(precision = 3)\n",
    "print(img_predict[:8, :8])"
   ]
  },
  {
   "cell_type": "markdown",
   "metadata": {},
   "source": [
    "#### For those cells, which now have all 4 straight neighbours, predict the missing pixel"
   ]
  },
  {
   "cell_type": "code",
   "execution_count": 11,
   "metadata": {},
   "outputs": [
    {
     "name": "stdout",
     "output_type": "stream",
     "text": [
      "[[115.      0.    110.      0.    110.      0.    116.      0.   ]\n",
      " [  0.    116.215 112.887 110.34  111.171 112.018 110.019 107.371]\n",
      " [127.    117.632 110.    109.08  110.    109.367 110.    105.834]\n",
      " [  0.    112.609 106.385 104.693 104.605 106.038 104.528 103.859]\n",
      " [115.    107.071  97.    100.48  101.    102.28  102.    102.476]\n",
      " [  0.    109.211 108.077 104.954 106.018 104.118 103.971 104.864]\n",
      " [115.    112.903 110.    110.363 110.    105.707 101.    107.786]\n",
      " [  0.    112.847 111.533 110.34  108.444 104.936 103.322 104.606]]\n"
     ]
    }
   ],
   "source": [
    "def predict_pixel_str(i, j):\n",
    "    neighbours = np.array([img_predict[i - 1][j], img_predict[i][j + 1], img_predict[i + 1][j], img_predict[i][j - 1]])\n",
    "    pixel = np.matmul(neighbours, para_str)\n",
    "    return pixel\n",
    "\n",
    "for i in range(2, 510, 2):\n",
    "    for j in range(1, 510, 2):\n",
    "        img_predict[i, j] = predict_pixel_str(i, j)\n",
    "        \n",
    "for i in range(1, 510, 2):\n",
    "    for j in range(2, 509, 2):\n",
    "        img_predict[i, j] = predict_pixel_str(i, j)\n",
    "        \n",
    "print(img_predict[:8, :8])"
   ]
  },
  {
   "cell_type": "markdown",
   "metadata": {},
   "source": [
    "#### Predict the missing pixels in the second last row and second last column (those with 3 neighbours)"
   ]
  },
  {
   "cell_type": "code",
   "execution_count": 12,
   "metadata": {},
   "outputs": [
    {
     "name": "stdout",
     "output_type": "stream",
     "text": [
      "[[115.      0.    110.      0.    110.      0.    116.      0.   ]\n",
      " [  0.    116.215 112.887 110.34  111.171 112.018 110.019 107.371]\n",
      " [127.    117.632 110.    109.08  110.    109.367 110.    105.834]\n",
      " [  0.    112.609 106.385 104.693 104.605 106.038 104.528 103.859]\n",
      " [115.    107.071  97.    100.48  101.    102.28  102.    102.476]\n",
      " [  0.    109.211 108.077 104.954 106.018 104.118 103.971 104.864]\n",
      " [115.    112.903 110.    110.363 110.    105.707 101.    107.786]\n",
      " [  0.    112.847 111.533 110.34  108.444 104.936 103.322 104.606]]\n"
     ]
    }
   ],
   "source": [
    "# Since we only know the 3 straight neighbours, we can predict them, by multiplying the pixel obtained by 4/3, so that\n",
    "# the effect of the one missing feature can be compensated\n",
    "\n",
    "i = 510\n",
    "for j in range(1, 510, 2):\n",
    "    img_predict[i, j] = 4/3 * predict_pixel_str(i, j)\n",
    "\n",
    "j = 510\n",
    "for i in range(1, 510, 2):\n",
    "    img_predict[i, j] = 4/3 * predict_pixel_str(i, j)\n",
    "\n",
    "print(img_predict[:8, :8])\n",
    "\n",
    "# print(img[:8, :8])"
   ]
  },
  {
   "cell_type": "markdown",
   "metadata": {},
   "source": [
    "#### Predict the missing pixels in the first row and first column (those with 3 neighbours)"
   ]
  },
  {
   "cell_type": "code",
   "execution_count": 13,
   "metadata": {},
   "outputs": [
    {
     "name": "stdout",
     "output_type": "stream",
     "text": [
      "[[115.    152.429 110.    148.015 110.    151.59  116.    145.735]\n",
      " [ 96.197 116.215 112.887 110.34  111.171 112.018 110.019 107.371]\n",
      " [127.    117.632 110.    109.08  110.    109.367 110.    105.834]\n",
      " [ 90.706 112.609 106.385 104.693 104.605 106.038 104.528 103.859]\n",
      " [115.    107.071  97.    100.48  101.    102.28  102.    102.476]\n",
      " [ 89.06  109.211 108.077 104.954 106.018 104.118 103.971 104.864]\n",
      " [115.    112.903 110.    110.363 110.    105.707 101.    107.786]\n",
      " [ 90.927 112.847 111.533 110.34  108.444 104.936 103.322 104.606]]\n"
     ]
    }
   ],
   "source": [
    "i = 0\n",
    "for j in range(1, 510, 2):\n",
    "    img_predict[i, j] = 4/3 * predict_pixel_str(i, j)\n",
    "\n",
    "j = 0\n",
    "for i in range(1, 510, 2):\n",
    "    img_predict[i ,j] = 4/3 * predict_pixel_str(i, j)\n",
    "\n",
    "print(img_predict[:8, :8])\n",
    "\n",
    "# print(img[:8, :8])"
   ]
  },
  {
   "cell_type": "markdown",
   "metadata": {},
   "source": [
    "#### Predict the missing pixels in the last row and the last column"
   ]
  },
  {
   "cell_type": "code",
   "execution_count": 14,
   "metadata": {},
   "outputs": [
    {
     "name": "stdout",
     "output_type": "stream",
     "text": [
      "[[115.    152.429 110.    148.015 110.    151.59  116.    145.735]\n",
      " [ 96.197 116.215 112.887 110.34  111.171 112.018 110.019 107.371]\n",
      " [127.    117.632 110.    109.08  110.    109.367 110.    105.834]\n",
      " [ 90.706 112.609 106.385 104.693 104.605 106.038 104.528 103.859]\n",
      " [115.    107.071  97.    100.48  101.    102.28  102.    102.476]\n",
      " [ 89.06  109.211 108.077 104.954 106.018 104.118 103.971 104.864]\n",
      " [115.    112.903 110.    110.363 110.    105.707 101.    107.786]\n",
      " [ 90.927 112.847 111.533 110.34  108.444 104.936 103.322 104.606]]\n"
     ]
    }
   ],
   "source": [
    "# in first try, just copy the entire second last rows and columns directly\n",
    "img_predict[511, :] = img_predict[510, :]\n",
    "img_predict[:, 511] = img_predict[:, 510]\n",
    "print(img_predict[:8, :8])\n",
    "\n",
    "# cnt = 0\n",
    "# for i in range(0, 512):\n",
    "#     for j in range(0, 512):\n",
    "#         if(img_predict[i, j] == 0):\n",
    "#             cnt += 1;\n",
    "#             print(\"i, j:\", i, j)\n",
    "# print(cnt)\n",
    "\n",
    "# np.set_printoptions(threshold = np.nan)\n",
    "# print(img_predict)"
   ]
  },
  {
   "cell_type": "markdown",
   "metadata": {},
   "source": [
    "### Display the predicted image "
   ]
  },
  {
   "cell_type": "code",
   "execution_count": 15,
   "metadata": {},
   "outputs": [
    {
     "data": {
      "image/png": "[encoded data removed]",
      "text/plain": [
       "<Figure size 432x288 with 1 Axes>"
      ]
     },
     "metadata": {},
     "output_type": "display_data"
    }
   ],
   "source": [
    "plt.imshow(img_predict, cmap = 'gray', interpolation = 'bicubic')\n",
    "plt.xticks([]), plt.yticks([])  # to hide tick values on X and Y axis\n",
    "plt.show()"
   ]
  },
  {
   "cell_type": "markdown",
   "metadata": {},
   "source": [
    "### Calculate the Mean Square Error (MSE) and Peak Signal-to-noise ratio (PSNR)"
   ]
  },
  {
   "cell_type": "code",
   "execution_count": 16,
   "metadata": {},
   "outputs": [
    {
     "name": "stdout",
     "output_type": "stream",
     "text": [
      "MEAN SQUARE ERROR is:  45.41\n",
      "PSNR is:  31.56\n"
     ]
    }
   ],
   "source": [
    "# Mean square error is defined as the mean of squares of the difference between original and predicted pixels\n",
    "import math\n",
    "mse = np.square(np.subtract(img, img_predict)).mean()\n",
    "print(\"MEAN SQUARE ERROR is: \", round(mse, 2))\n",
    "\n",
    "# PSNR is given as 20 * log(255) - 10 * log(MSE)\n",
    "psnr = 20.0 * math.log10(255) - 10.0 * math.log10(mse)\n",
    "print(\"PSNR is: \", round(psnr, 2))"
   ]
  },
  {
   "cell_type": "markdown",
   "metadata": {},
   "source": [
    "## Calculate PSNR for all the images in the dataset "
   ]
  },
  {
   "cell_type": "code",
   "execution_count": 22,
   "metadata": {},
   "outputs": [
    {
     "name": "stdout",
     "output_type": "stream",
     "text": [
      "jetplane.tif\n",
      "PSNR is:  31.31 \n",
      "\n",
      "woman_blonde.tif\n",
      "PSNR is:  28.32 \n",
      "\n",
      "house.tif\n",
      "PSNR is:  36.26 \n",
      "\n",
      "cameraman.tif\n",
      "PSNR is:  32.83 \n",
      "\n",
      "pirate.tif\n",
      "PSNR is:  29.66 \n",
      "\n",
      "woman_darkhair.tif\n",
      "PSNR is:  36.7 \n",
      "\n",
      "peppers_gray.tif\n",
      "PSNR is:  31.56 \n",
      "\n",
      "livingroom.tif\n",
      "PSNR is:  28.24 \n",
      "\n",
      "lena_gray_512.tif\n",
      "PSNR is:  32.14 \n",
      "\n",
      "walkbridge.tif\n",
      "PSNR is:  26.06 \n",
      "\n",
      "lake.tif\n",
      "PSNR is:  29.15 \n",
      "\n",
      "mandril_gray.tif\n",
      "PSNR is:  29.2 \n",
      "\n",
      "THE AVERAGE VALUE OF THE PSNR IS (Considering the boundary pixels):  30.95126272125158\n"
     ]
    }
   ],
   "source": [
    "import os \n",
    "\n",
    "# os.listdir(\"standard_test_images/\")\n",
    "psnr_all = []\n",
    "\n",
    "for file_name in os.listdir(\"standard_test_images/\"):\n",
    "    print(file_name)\n",
    "    img = cv2.imread(os.path.join(\"standard_test_images/\", file_name), 0)\n",
    "\n",
    "    img = np.array(img)\n",
    "    img_down_sampled = img[::2, ::2]\n",
    "\n",
    "    X_features_diag = []\n",
    "    X_features_str = []\n",
    "    Y_data = []\n",
    "\n",
    "    for i in range(1, 255):\n",
    "        for j in range(1, 255):\n",
    "            X_features_diag.append(get_neighbours_diag(i, j))\n",
    "            X_features_str.append(get_neighbours_str(i, j))\n",
    "            Y_data.append([img_down_sampled[i][j]])\n",
    "\n",
    "    X_features_diag = np.array(X_features_diag, float)\n",
    "    X_features_str = np.array(X_features_str, float)\n",
    "    Y_data = np.array(Y_data, float)\n",
    "\n",
    "    X_transpose = np.transpose(X_features_diag);\n",
    "    para_diag = np.matmul(np.matmul(inv(np.matmul(X_transpose, X_features_diag)), X_transpose), Y_data)\n",
    "\n",
    "    X_transpose = np.transpose(X_features_str);\n",
    "    para_str = np.matmul(np.matmul(inv(np.matmul(X_transpose, X_features_str)), X_transpose), Y_data)\n",
    "\n",
    "    img_predict = np.array(img)\n",
    "    img_predict[1::2, :] = 0\n",
    "    img_predict[:, 1::2] = 0\n",
    "    img_predict = np.array(img_predict, float)\n",
    "\n",
    "    for i in range(1, 510, 2):\n",
    "        for j in range(1, 510, 2):\n",
    "            img_predict[i, j] = predict_pixel_diag(i, j)\n",
    "\n",
    "    for i in range(2, 510, 2):\n",
    "        for j in range(1, 510, 2):\n",
    "            img_predict[i, j] = predict_pixel_str(i, j)\n",
    "\n",
    "    for i in range(1, 510, 2):\n",
    "        for j in range(2, 509, 2):\n",
    "            img_predict[i, j] = predict_pixel_str(i, j)\n",
    "\n",
    "    i = 510\n",
    "    for j in range(1, 510, 2):\n",
    "        img_predict[i, j] = 4/3 * predict_pixel_str(i, j)\n",
    "\n",
    "    j = 510\n",
    "    for i in range(1, 510, 2):\n",
    "        img_predict[i, j] = 4/3 * predict_pixel_str(i, j)\n",
    "\n",
    "    i = 0\n",
    "    for j in range(1, 510, 2):\n",
    "        img_predict[i, j] = 4/3 * predict_pixel_str(i, j)\n",
    "\n",
    "    j = 0\n",
    "    for i in range(1, 510, 2):\n",
    "        img_predict[i ,j] = 4/3 * predict_pixel_str(i, j)\n",
    "\n",
    "    img_predict[511, :] = img_predict[510, :]\n",
    "    img_predict[:, 511] = img_predict[:, 510]\n",
    "\n",
    "    mse = np.square(np.subtract(img, img_predict)).mean()\n",
    "\n",
    "    psnr = 20.0 * math.log10(255) - 10.0 * math.log10(mse)\n",
    "    print(\"PSNR is: \", round(psnr, 2), \"\\n\")\n",
    "    psnr_all.append(psnr)\n",
    "\n",
    "print(\"THE AVERAGE VALUE OF THE PSNR IS (Considering the boundary pixels): \", sum(psnr_all)/float(len(psnr_all)))"
   ]
  },
  {
   "cell_type": "code",
   "execution_count": 21,
   "metadata": {},
   "outputs": [
    {
     "name": "stdout",
     "output_type": "stream",
     "text": [
      "jetplane.tif\n",
      "PSNR is:  32.12 \n",
      "\n",
      "woman_blonde.tif\n",
      "PSNR is:  29.4 \n",
      "\n",
      "house.tif\n",
      "PSNR is:  41.93 \n",
      "\n",
      "cameraman.tif\n",
      "PSNR is:  33.72 \n",
      "\n",
      "pirate.tif\n",
      "PSNR is:  29.81 \n",
      "\n",
      "woman_darkhair.tif\n",
      "PSNR is:  39.68 \n",
      "\n",
      "peppers_gray.tif\n",
      "PSNR is:  32.05 \n",
      "\n",
      "livingroom.tif\n",
      "PSNR is:  28.39 \n",
      "\n",
      "lena_gray_512.tif\n",
      "PSNR is:  32.58 \n",
      "\n",
      "walkbridge.tif\n",
      "PSNR is:  26.2 \n",
      "\n",
      "lake.tif\n",
      "PSNR is:  29.6 \n",
      "\n",
      "mandril_gray.tif\n",
      "PSNR is:  29.35 \n",
      "\n",
      "THE AVERAGE VALUE OF THE PSNR IS (Without considering the boundary pixels):  32.069435531619284\n"
     ]
    }
   ],
   "source": [
    "import os \n",
    "\n",
    "# os.listdir(\"standard_test_images/\")\n",
    "psnr_all = []\n",
    "\n",
    "for file_name in os.listdir(\"standard_test_images/\"):\n",
    "    print(file_name)\n",
    "    img = cv2.imread(os.path.join(\"standard_test_images/\", file_name), 0)\n",
    "\n",
    "    img = np.array(img)\n",
    "    img_down_sampled = img[::2, ::2]\n",
    "\n",
    "    X_features_diag = []\n",
    "    X_features_str = []\n",
    "    Y_data = []\n",
    "\n",
    "    for i in range(1, 255):\n",
    "        for j in range(1, 255):\n",
    "            X_features_diag.append(get_neighbours_diag(i, j))\n",
    "            X_features_str.append(get_neighbours_str(i, j))\n",
    "            Y_data.append([img_down_sampled[i][j]])\n",
    "\n",
    "    X_features_diag = np.array(X_features_diag, float)\n",
    "    X_features_str = np.array(X_features_str, float)\n",
    "    Y_data = np.array(Y_data, float)\n",
    "\n",
    "    X_transpose = np.transpose(X_features_diag);\n",
    "    para_diag = np.matmul(np.matmul(inv(np.matmul(X_transpose, X_features_diag)), X_transpose), Y_data)\n",
    "\n",
    "    X_transpose = np.transpose(X_features_str);\n",
    "    para_str = np.matmul(np.matmul(inv(np.matmul(X_transpose, X_features_str)), X_transpose), Y_data)\n",
    "\n",
    "    img_predict = np.array(img)\n",
    "    img_predict[1::2, :] = 0\n",
    "    img_predict[:, 1::2] = 0\n",
    "    img_predict = np.array(img_predict, float)\n",
    "\n",
    "    for i in range(1, 510, 2):\n",
    "        for j in range(1, 510, 2):\n",
    "            img_predict[i, j] = predict_pixel_diag(i, j)\n",
    "\n",
    "    for i in range(2, 510, 2):\n",
    "        for j in range(1, 510, 2):\n",
    "            img_predict[i, j] = predict_pixel_str(i, j)\n",
    "\n",
    "    for i in range(1, 510, 2):\n",
    "        for j in range(2, 509, 2):\n",
    "            img_predict[i, j] = predict_pixel_str(i, j)\n",
    "\n",
    "    i = 510\n",
    "    for j in range(1, 510, 2):\n",
    "        img_predict[i, j] = 4/3 * predict_pixel_str(i, j)\n",
    "\n",
    "    j = 510\n",
    "    for i in range(1, 510, 2):\n",
    "        img_predict[i, j] = 4/3 * predict_pixel_str(i, j)\n",
    "\n",
    "    i = 0\n",
    "    for j in range(1, 510, 2):\n",
    "        img_predict[i, j] = 4/3 * predict_pixel_str(i, j)\n",
    "\n",
    "    j = 0\n",
    "    for i in range(1, 510, 2):\n",
    "        img_predict[i ,j] = 4/3 * predict_pixel_str(i, j)\n",
    "\n",
    "    img_predict[511, :] = img_predict[510, :]\n",
    "    img_predict[:, 511] = img_predict[:, 510]\n",
    "\n",
    "    mse = np.square(np.subtract(img[3:510, 3:510], img_predict[3:510, 3:510])).mean()\n",
    "\n",
    "    psnr = 20.0 * math.log10(255) - 10.0 * math.log10(mse)\n",
    "    print(\"PSNR is: \", round(psnr, 2), \"\\n\")\n",
    "    psnr_all.append(psnr)\n",
    "\n",
    "print(\"THE AVERAGE VALUE OF THE PSNR IS (Without considering the boundary pixels): \", sum(psnr_all)/float(len(psnr_all)))"
   ]
  },
  {
   "cell_type": "code",
   "execution_count": null,
   "metadata": {},
   "outputs": [],
   "source": []
  }
 ],
 "metadata": {
  "kernelspec": {
   "display_name": "Python 3",
   "language": "python",
   "name": "python3"
  },
  "language_info": {
   "codemirror_mode": {
    "name": "ipython",
    "version": 3
   },
   "file_extension": ".py",
   "mimetype": "text/x-python",
   "name": "python",
   "nbconvert_exporter": "python",
   "pygments_lexer": "ipython3",
   "version": "3.6.5"
  },
  "widgets": {
   "state": {},
   "version": "1.1.2"
  }
 },
 "nbformat": 4,
 "nbformat_minor": 2
}
