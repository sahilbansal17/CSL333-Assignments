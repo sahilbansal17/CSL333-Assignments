{
 "cells": [
  {
   "cell_type": "markdown",
   "metadata": {},
   "source": [
    "# Assignment 3 (Submitted by: SAHIL 2016UCS0008)"
   ]
  },
  {
   "cell_type": "markdown",
   "metadata": {},
   "source": [
    "## 1. Import libraries"
   ]
  },
  {
   "cell_type": "code",
   "execution_count": 283,
   "metadata": {},
   "outputs": [],
   "source": [
    "import numpy as np\n",
    "import scipy.io\n",
    "import scipy.stats\n",
    "import cv2\n",
    "from sklearn.svm import SVR\n",
    "from sklearn.model_selection import train_test_split\n",
    "from os import listdir\n",
    "from sklearn.linear_model import LogisticRegression\n",
    "from sklearn import preprocessing\n",
    "from sklearn import utils\n",
    "from sklearn.preprocessing import StandardScaler \n",
    "from sklearn.neural_network import MLPClassifier \n",
    "from sklearn.model_selection import cross_val_score\n",
    "from sklearn.metrics import classification_report, confusion_matrix, accuracy_score"
   ]
  },
  {
   "cell_type": "markdown",
   "metadata": {},
   "source": [
    "## 2. Common part for all the models (One time feature extraction, image loading)"
   ]
  },
  {
   "cell_type": "markdown",
   "metadata": {},
   "source": [
    "### Extracting the feature vectors of the image using its reference image by SVD"
   ]
  },
  {
   "cell_type": "code",
   "execution_count": 284,
   "metadata": {},
   "outputs": [],
   "source": [
    "# exploiting the vectorization methods already included in the numpy library\n",
    "def get_feature_vector(ref_image, pred_image):\n",
    "    \n",
    "    # cropping the images to maintain a fixed length format dataset\n",
    "    \n",
    "    #reference image\n",
    "    u_r, s_r, v_r = np.linalg.svd(ref_image[:400, :400])\n",
    "    #predicted/distorted image\n",
    "    u_p, s_p, v_p = np.linalg.svd(pred_image[:400, :400])\n",
    "    #feature vector\n",
    "    feature_vec = np.add(np.absolute(np.sum(u_r.conj()*u_p, axis=0)), np.absolute(np.sum(v_r.conj()*v_p, axis=0)))\n",
    "    return feature_vec"
   ]
  },
  {
   "cell_type": "markdown",
   "metadata": {},
   "source": [
    "### Load the .mat files "
   ]
  },
  {
   "cell_type": "code",
   "execution_count": 285,
   "metadata": {},
   "outputs": [],
   "source": [
    "dmos_mat = scipy.io.loadmat('Live Database/databaserelease2/dmos.mat')\n",
    "ref_names = scipy.io.loadmat('Live Database/databaserelease2/refnames_all.mat')\n",
    "\n",
    "# extraxt the arrays from the loaded mat files\n",
    "refnames_all = ref_names['refnames_all']\n",
    "dmos = dmos_mat['dmos']"
   ]
  },
  {
   "cell_type": "markdown",
   "metadata": {},
   "source": [
    "### Load the reference images"
   ]
  },
  {
   "cell_type": "code",
   "execution_count": 286,
   "metadata": {},
   "outputs": [],
   "source": [
    "ref_images_names = listdir(\"Live Database/databaserelease2/refimgs/\")\n",
    "# print(ref_images_names)\n",
    "ref_images = {} # load the images in this dictionary\n",
    "ref_images_count = len(ref_images_names)\n",
    "for i in range(ref_images_count):\n",
    "    ref_images[ref_images_names[i]] = cv2.imread('Live Database/databaserelease2/refimgs/' + str(ref_images_names[i]), 0)\n",
    "    \n"
   ]
  },
  {
   "cell_type": "markdown",
   "metadata": {},
   "source": [
    "### Create the feature vector"
   ]
  },
  {
   "cell_type": "code",
   "execution_count": 287,
   "metadata": {},
   "outputs": [],
   "source": [
    "X = []\n",
    "folders = ['jp2k', 'jpeg', 'wn', 'gblur', 'fastfading']\n",
    "images = [227, 233, 174, 174, 174]\n",
    "done = 0"
   ]
  },
  {
   "cell_type": "code",
   "execution_count": 288,
   "metadata": {},
   "outputs": [],
   "source": [
    "for f in range(len(folders)):\n",
    "    for i in range(images[f]):\n",
    "        path = 'Live Database/databaserelease2/'+ folders[f] + '/img' + str(i + 1) + '.bmp'\n",
    "        img_p = cv2.imread(path, 0)\n",
    "        ref = refnames_all[:, done + i]\n",
    "        img = ref_images[ref[0][0]]\n",
    "        feature_vector = get_feature_vector(img, img_p)\n",
    "        X.append(feature_vector)\n",
    "    done += images[f]"
   ]
  },
  {
   "cell_type": "code",
   "execution_count": 289,
   "metadata": {},
   "outputs": [
    {
     "name": "stdout",
     "output_type": "stream",
     "text": [
      "[array(['sailing4.bmp'], dtype='<U12')]\n",
      "sailing4.bmp\n",
      "982\n"
     ]
    }
   ],
   "source": [
    "print(ref)\n",
    "print(ref[0][0])\n",
    "print(done)"
   ]
  },
  {
   "cell_type": "code",
   "execution_count": 290,
   "metadata": {},
   "outputs": [],
   "source": [
    "X = np.array(X)\n",
    "Y = dmos[0] # Create the output DMOS matrix for the features"
   ]
  },
  {
   "cell_type": "markdown",
   "metadata": {},
   "source": [
    "## 3. Support Vector Regression"
   ]
  },
  {
   "cell_type": "markdown",
   "metadata": {},
   "source": [
    "### Split into training and testing data"
   ]
  },
  {
   "cell_type": "code",
   "execution_count": 291,
   "metadata": {},
   "outputs": [],
   "source": [
    "X_train, X_test, Y_train, Y_test = train_test_split(X, Y, test_size = 0.2)"
   ]
  },
  {
   "cell_type": "code",
   "execution_count": 292,
   "metadata": {},
   "outputs": [],
   "source": [
    "svr = SVR(C = 1.0, epsilon = 0.1)"
   ]
  },
  {
   "cell_type": "markdown",
   "metadata": {},
   "source": [
    "### Create the SVR classifier, fit on train data, predict on test data"
   ]
  },
  {
   "cell_type": "code",
   "execution_count": 293,
   "metadata": {},
   "outputs": [
    {
     "data": {
      "text/plain": [
       "SVR(C=1.0, cache_size=200, coef0=0.0, degree=3, epsilon=0.1, gamma='auto',\n",
       "  kernel='rbf', max_iter=-1, shrinking=True, tol=0.001, verbose=False)"
      ]
     },
     "execution_count": 293,
     "metadata": {},
     "output_type": "execute_result"
    }
   ],
   "source": [
    "svr.fit(X_train, Y_train)"
   ]
  },
  {
   "cell_type": "code",
   "execution_count": 294,
   "metadata": {},
   "outputs": [
    {
     "data": {
      "text/plain": [
       "0.8733736870661665"
      ]
     },
     "execution_count": 294,
     "metadata": {},
     "output_type": "execute_result"
    }
   ],
   "source": [
    "Y_pred = svr.predict(X_test)\n",
    "svr.score(X_test, Y_test)"
   ]
  },
  {
   "cell_type": "markdown",
   "metadata": {},
   "source": [
    "### Compute the value of PLCC"
   ]
  },
  {
   "cell_type": "code",
   "execution_count": 295,
   "metadata": {},
   "outputs": [
    {
     "name": "stdout",
     "output_type": "stream",
     "text": [
      "PLCC: 0.94 PVAL: 0.00\n"
     ]
    }
   ],
   "source": [
    "plcc, pval = scipy.stats.pearsonr(Y_test, Y_pred)\n",
    "\n",
    "print (\"PLCC: {0:1.2f} PVAL: {1:1.2f}\".format(plcc, pval) )"
   ]
  },
  {
   "cell_type": "markdown",
   "metadata": {},
   "source": [
    "## 4. Logistic Regression"
   ]
  },
  {
   "cell_type": "markdown",
   "metadata": {},
   "source": [
    "### Split into training and testing data"
   ]
  },
  {
   "cell_type": "code",
   "execution_count": 356,
   "metadata": {},
   "outputs": [],
   "source": [
    "X_train, X_test, Y_train, Y_test = train_test_split(X, Y, test_size = 0.2)"
   ]
  },
  {
   "cell_type": "markdown",
   "metadata": {},
   "source": [
    "### Convert continuous output values in y_train to discrete values using encoding"
   ]
  },
  {
   "cell_type": "code",
   "execution_count": 357,
   "metadata": {},
   "outputs": [],
   "source": [
    "# clf = LogisticRegression(random_state=0, solver='lbfgs').fit(X_train, Y_train)\n",
    "\n",
    "# divide the DMOS values for the training data by 20 to make 5 classes\n",
    "Y_train[:] = Y_train[:]/20\n",
    "Y_test[:] = Y_test[:]/20\n"
   ]
  },
  {
   "cell_type": "code",
   "execution_count": 358,
   "metadata": {},
   "outputs": [
    {
     "name": "stdout",
     "output_type": "stream",
     "text": [
      "Training labels: [1 1 1 3 3 2 0 0 2 3 1 3 0 0 1 3 1 2 0 2 0 0 2 0 2 1 3 2 1 2 0 1 1 1 0 0 2\n",
      " 3 1 2 2 2 1 1 2 3 1 0 0 0 2 2 1 2 1 2 1 2 3 3 2 1 2 2 2 0 2 3 0 1 2 2 2 2\n",
      " 2 1 1 1 0 3 2 1 1 3 0 3 2 1 3 2 0 0 2 1 1 1 1 1 0 0 0 0 0 1 2 1 2 1 1 2 2\n",
      " 0 3 2 2 3 2 1 1 2 0 3 1 2 3 0 2 2 1 0 1 3 2 1 1 1 1 0 1 2 0 3 1 3 1 2 2 2\n",
      " 0 3 1 1 1 0 0 3 1 1 0 2 3 1 0 2 2 0 1 0 3 1 2 3 3 2 1 2 0 1 1 1 1 1 0 1 0\n",
      " 0 0 1 2 3 2 2 3 2 3 2 3 2 0 0 2 2 1 2 2 2 2 3 2 0 3 2 2 1 2 2 3 0 3 0 2 2\n",
      " 0 0 2 2 3 3 1 2 2 0 0 1 1 3 3 1 2 2 2 1 1 2 1 0 3 4 3 1 1 0 2 0 2 1 1 1 2\n",
      " 3 1 0 0 0 2 1 2 0 2 1 1 0 2 0 3 2 0 1 0 2 0 2 3 3 1 1 2 2 3 2 2 2 1 1 0 2\n",
      " 1 0 1 0 2 3 3 3 0 1 1 2 2 0 2 1 1 2 3 0 3 2 1 2 0 0 1 3 2 1 1 0 1 2 1 2 2\n",
      " 0 3 1 3 1 2 2 1 2 0 0 3 2 2 2 2 3 3 3 1 0 0 3 2 3 2 2 2 3 0 3 1 3 2 3 0 2\n",
      " 2 3 3 3 1 2 2 1 3 2 0 3 3 3 3 1 3 2 1 2 1 2 1 1 0 1 3 0 1 3 2 1 3 2 0 3 1\n",
      " 0 2 1 2 1 2 0 1 0 0 2 2 2 2 0 2 1 0 0 3 1 0 0 0 1 3 3 0 2 2 1 0 3 1 2 1 0\n",
      " 2 0 1 3 2 1 2 2 0 1 2 3 1 0 2 2 2 1 2 1 2 0 1 3 2 2 1 0 1 3 1 3 0 3 2 0 3\n",
      " 1 2 2 2 0 3 2 1 1 2 2 3 2 0 2 3 0 0 2 2 0 1 1 1 2 3 1 0 0 2 1 0 1 3 1 2 2\n",
      " 1 0 0 2 2 0 1 1 1 3 1 1 0 0 1 3 2 3 1 3 2 0 1 1 2 1 2 2 3 0 0 2 2 0 2 1 1\n",
      " 2 0 3 1 0 2 2 0 1 1 3 2 0 2 3 0 1 0 0 3 2 2 0 1 0 1 1 2 2 2 1 2 0 2 2 1 2\n",
      " 1 2 2 2 2 1 0 0 0 1 3 3 1 1 0 1 2 1 2 1 3 2 0 3 0 2 1 3 2 0 0 0 2 0 0 3 3\n",
      " 1 2 0 0 0 2 3 1 1 1 1 1 3 1 1 0 1 3 1 2 2 2 3 1 0 2 4 0 0 1 0 2 1 2 1 1 2\n",
      " 1 1 0 3 1 3 0 3 1 1 2 1 2 2 1 1 0 1 2 3 2 2 1 2 1 1 0 2 3 3 2 0 3 0 2 2 1\n",
      " 3 2 2 1 3 1 1 0 1 1 1 1 2 2 0 1 0 2 1 2 3 0 1 2 2 1 1 1 0 0 2 2 2 1 0 1 1\n",
      " 0 2 3 0 0 1 0 1 1 0 0 2 1 2 1 0 1 2 0 0 0 0 2 1 2 3 2 2 0 1 1 3 3 1 2 1 4\n",
      " 2 2 0 3 2 1 2 0]\n",
      "Testing labels: [1 1 2 3 0 0 0 1 1 2 1 2 1 2 2 2 1 2 2 0 1 2 1 0 3 3 2 2 3 1 1 2 1 1 1 0 1\n",
      " 1 1 1 1 2 1 2 3 1 2 2 1 0 2 1 2 2 2 0 1 1 2 0 1 3 1 2 1 2 1 1 1 2 1 2 3 2\n",
      " 3 0 0 2 1 1 1 2 2 0 2 0 1 1 2 3 2 1 3 0 1 3 2 2 0 0 2 0 1 3 2 0 4 1 3 3 0\n",
      " 2 2 2 1 2 3 0 2 1 2 2 1 0 4 1 3 2 1 2 0 0 1 0 2 1 2 0 2 0 1 1 3 1 1 2 2 2\n",
      " 1 1 2 2 0 0 0 0 0 1 1 0 1 2 1 0 3 1 3 1 2 3 3 2 1 1 3 0 0 1 0 3 3 1 3 1 1\n",
      " 0 2 2 0 3 3 0 0 0 2 2 2]\n"
     ]
    }
   ],
   "source": [
    "Y_train = Y_train.astype('int')\n",
    "Y_test = Y_test.astype('int')\n",
    "print(\"Training labels:\", Y_train)\n",
    "print(\"Testing labels:\", Y_test)"
   ]
  },
  {
   "cell_type": "markdown",
   "metadata": {},
   "source": [
    "### Create the logistic regression classifier and fit on training data"
   ]
  },
  {
   "cell_type": "code",
   "execution_count": 359,
   "metadata": {},
   "outputs": [],
   "source": [
    "logistic = LogisticRegression(random_state=0, solver='lbfgs').fit(X_train, Y_train)"
   ]
  },
  {
   "cell_type": "markdown",
   "metadata": {},
   "source": [
    "### Predict on test data"
   ]
  },
  {
   "cell_type": "code",
   "execution_count": 360,
   "metadata": {},
   "outputs": [
    {
     "name": "stdout",
     "output_type": "stream",
     "text": [
      "Predicted values for Y:\n",
      " [1 1 3 2 0 0 1 2 1 2 1 2 1 2 2 2 1 2 2 0 1 1 1 0 2 2 1 3 2 1 1 2 1 1 2 0 1\n",
      " 1 1 1 2 2 2 1 3 1 2 1 1 0 1 1 1 2 3 0 1 1 2 0 1 3 1 2 1 2 1 2 1 2 1 1 2 2\n",
      " 3 0 0 2 1 1 2 2 2 0 2 0 1 1 2 2 2 1 2 0 1 3 2 2 0 0 1 0 1 3 2 0 3 2 2 3 0\n",
      " 2 2 1 2 2 2 0 2 1 3 2 1 0 2 1 3 2 1 2 0 0 1 0 2 1 2 0 2 0 2 1 3 1 1 2 2 2\n",
      " 1 2 2 2 0 0 0 0 0 1 1 0 1 2 1 0 3 1 2 2 3 2 3 2 1 1 2 0 0 1 0 2 3 1 3 1 1\n",
      " 0 2 2 0 2 3 0 0 0 2 2 2]\n",
      "\n",
      "Acutal values for Y:\n",
      " [1 1 2 3 0 0 0 1 1 2 1 2 1 2 2 2 1 2 2 0 1 2 1 0 3 3 2 2 3 1 1 2 1 1 1 0 1\n",
      " 1 1 1 1 2 1 2 3 1 2 2 1 0 2 1 2 2 2 0 1 1 2 0 1 3 1 2 1 2 1 1 1 2 1 2 3 2\n",
      " 3 0 0 2 1 1 1 2 2 0 2 0 1 1 2 3 2 1 3 0 1 3 2 2 0 0 2 0 1 3 2 0 4 1 3 3 0\n",
      " 2 2 2 1 2 3 0 2 1 2 2 1 0 4 1 3 2 1 2 0 0 1 0 2 1 2 0 2 0 1 1 3 1 1 2 2 2\n",
      " 1 1 2 2 0 0 0 0 0 1 1 0 1 2 1 0 3 1 3 1 2 3 3 2 1 1 3 0 0 1 0 3 3 1 3 1 1\n",
      " 0 2 2 0 3 3 0 0 0 2 2 2]\n"
     ]
    }
   ],
   "source": [
    "Y_pred = logistic.predict(X_test)\n",
    "print(\"Predicted values for Y:\\n\", Y_pred)\n",
    "print(\"\\nAcutal values for Y:\\n\", Y_test)"
   ]
  },
  {
   "cell_type": "code",
   "execution_count": 361,
   "metadata": {},
   "outputs": [
    {
     "name": "stdout",
     "output_type": "stream",
     "text": [
      "(197, 5)\n"
     ]
    }
   ],
   "source": [
    "# generate the class probabilities\n",
    "probs = logistic.predict_proba(X_test)\n",
    "print(probs.shape)"
   ]
  },
  {
   "cell_type": "code",
   "execution_count": 362,
   "metadata": {},
   "outputs": [
    {
     "data": {
      "text/plain": [
       "0.7868020304568528"
      ]
     },
     "execution_count": 362,
     "metadata": {},
     "output_type": "execute_result"
    }
   ],
   "source": [
    "# score of the classifier\n",
    "logistic.score(X_test, Y_test)\n",
    "\n",
    "# from sklearn.metrics import accuracy_score   \n",
    "# print(accuracy_score(y_test_encoded, Y_pred))"
   ]
  },
  {
   "cell_type": "markdown",
   "metadata": {},
   "source": [
    "### Compute the value of PLCC"
   ]
  },
  {
   "cell_type": "code",
   "execution_count": 363,
   "metadata": {},
   "outputs": [
    {
     "name": "stdout",
     "output_type": "stream",
     "text": [
      "PLCC: 0.88 PVAL: 0.00\n"
     ]
    }
   ],
   "source": [
    "plcc, pval = scipy.stats.pearsonr(Y_test, Y_pred)\n",
    "\n",
    "print(\"PLCC: {0:1.2f} PVAL: {1:1.2f}\".format(plcc, pval))"
   ]
  },
  {
   "cell_type": "markdown",
   "metadata": {},
   "source": [
    "## 5. Neural Network "
   ]
  },
  {
   "cell_type": "markdown",
   "metadata": {},
   "source": [
    "### Split into training and testing data"
   ]
  },
  {
   "cell_type": "code",
   "execution_count": 349,
   "metadata": {},
   "outputs": [],
   "source": [
    "X_train, X_test, Y_train, Y_test = train_test_split(X, Y, test_size = 0.2)\n",
    "\n",
    "# divide the DMOS values for the training data by 20 to make 5 classes\n",
    "Y_train[:] = Y_train[:]/20\n",
    "Y_test[:] = Y_test[:]/20\n",
    "\n",
    "Y_train = Y_train.astype('int')\n",
    "Y_test = Y_test.astype('int')"
   ]
  },
  {
   "cell_type": "markdown",
   "metadata": {},
   "source": [
    "### Feature scaling"
   ]
  },
  {
   "cell_type": "code",
   "execution_count": 350,
   "metadata": {},
   "outputs": [],
   "source": [
    "scaler = StandardScaler()  \n",
    "# Fit only to the training data\n",
    "scaler.fit(X_train)\n",
    "\n",
    "# Now apply the transformations to the data:\n",
    "X_train = scaler.transform(X_train)  \n",
    "X_test = scaler.transform(X_test)  "
   ]
  },
  {
   "cell_type": "markdown",
   "metadata": {},
   "source": [
    "### Training the model"
   ]
  },
  {
   "cell_type": "code",
   "execution_count": 352,
   "metadata": {},
   "outputs": [
    {
     "data": {
      "text/plain": [
       "MLPClassifier(activation='relu', alpha=0.0001, batch_size='auto', beta_1=0.9,\n",
       "       beta_2=0.999, early_stopping=False, epsilon=1e-08,\n",
       "       hidden_layer_sizes=400, learning_rate='constant',\n",
       "       learning_rate_init=0.001, max_iter=1000, momentum=0.9,\n",
       "       nesterovs_momentum=True, power_t=0.5, random_state=None,\n",
       "       shuffle=True, solver='adam', tol=0.0001, validation_fraction=0.1,\n",
       "       verbose=False, warm_start=False)"
      ]
     },
     "execution_count": 352,
     "metadata": {},
     "output_type": "execute_result"
    }
   ],
   "source": [
    "# no of features per image\n",
    "features = X_train.shape[1]\n",
    "# print(features)\n",
    "\n",
    "# The first parameter, hidden_layer_sizes, is used to set the size of the hidden layers \n",
    "# We will create one hidden layer having size equal to the no of features \n",
    "# The second parameter to MLPClassifier specifies the number of iterations, or the epochs,\n",
    "# that the neural network executes. An epoch is a combination of one cycle of feed-forward and back propagation phase.\n",
    "mlp = MLPClassifier(hidden_layer_sizes=(features), max_iter=1000)  \n",
    "# By default the 'relu' activation function is used with 'adam' cost optimizer. \n",
    "\n",
    "mlp.fit(X_train, Y_train)  "
   ]
  },
  {
   "cell_type": "markdown",
   "metadata": {},
   "source": [
    "### Predict on the test data and evaluating the performance"
   ]
  },
  {
   "cell_type": "code",
   "execution_count": 353,
   "metadata": {},
   "outputs": [],
   "source": [
    "Y_pred = mlp.predict(X_test)  "
   ]
  },
  {
   "cell_type": "code",
   "execution_count": 354,
   "metadata": {},
   "outputs": [
    {
     "name": "stdout",
     "output_type": "stream",
     "text": [
      "0.766497461928934\n"
     ]
    }
   ],
   "source": [
    "# print(confusion_matrix(y_test_encoded, Y_pred))  \n",
    "# print(classification_report(y_test_encoded, Y_pred))  \n",
    "print(accuracy_score(Y_test, Y_pred))"
   ]
  },
  {
   "cell_type": "markdown",
   "metadata": {},
   "source": [
    "### Compute the value of PLCC"
   ]
  },
  {
   "cell_type": "code",
   "execution_count": 355,
   "metadata": {},
   "outputs": [
    {
     "name": "stdout",
     "output_type": "stream",
     "text": [
      "PLCC: 0.87 PVAL: 0.00\n"
     ]
    }
   ],
   "source": [
    "plcc, pval = scipy.stats.pearsonr(Y_test, Y_pred)\n",
    "\n",
    "print (\"PLCC: {0:1.2f} PVAL: {1:1.2f}\".format(plcc, pval) )"
   ]
  },
  {
   "cell_type": "markdown",
   "metadata": {},
   "source": [
    "## 6. Comparing different models "
   ]
  },
  {
   "cell_type": "code",
   "execution_count": 366,
   "metadata": {},
   "outputs": [],
   "source": [
    "# print(\"Score of SVR classifier is: \", np.mean(cross_val_score(svr, X, Y, cv=5)))  "
   ]
  },
  {
   "cell_type": "code",
   "execution_count": 373,
   "metadata": {},
   "outputs": [
    {
     "name": "stdout",
     "output_type": "stream",
     "text": [
      "Score of SVR classifier is: 0.85\n",
      "Score of Logistic regression classifier is: 0.87\n",
      "Score of Neural network classifier is: 0.85\n"
     ]
    }
   ],
   "source": [
    "score_svr = 0\n",
    "score_lr = 0\n",
    "score_nn = 0\n",
    "for i in range(10):\n",
    "    X_train, X_test, Y_train, Y_test = train_test_split(X, Y, test_size = 0.2)\n",
    "    # use original Y_test for the SVR\n",
    "    score_svr += svr.score(X_test, Y_test)\n",
    "    \n",
    "    # use classes in Y_test for Neural network and Logistic regression\n",
    "    Y_train[:] = Y_train[:]/20\n",
    "    Y_test[:] = Y_test[:]/20\n",
    "    Y_train = Y_train.astype('int')\n",
    "    Y_test = Y_test.astype('int')\n",
    "    \n",
    "    score_lr += logistic.score(X_test, Y_test)\n",
    "    \n",
    "    # transform the X_test for neural network classifier using feature scaling\n",
    "    X_test = scaler.transform(X_test)\n",
    "    score_nn += mlp.score(X_test, Y_test)\n",
    "    \n",
    "score_svr = score_svr/10.0\n",
    "score_lr = score_lr/10.0\n",
    "score_nn = score_nn/10.0\n",
    "print(\"Score of SVR classifier is: {0:1.2f}\".format(score_svr))\n",
    "print(\"Score of Logistic regression classifier is: {0:1.2f}\".format(score_lr))\n",
    "print(\"Score of Neural network classifier is: {0:1.2f}\".format(score_nn))"
   ]
  }
 ],
 "metadata": {
  "kernelspec": {
   "display_name": "Python 3",
   "language": "python",
   "name": "python3"
  },
  "language_info": {
   "codemirror_mode": {
    "name": "ipython",
    "version": 3
   },
   "file_extension": ".py",
   "mimetype": "text/x-python",
   "name": "python",
   "nbconvert_exporter": "python",
   "pygments_lexer": "ipython3",
   "version": "3.6.5"
  }
 },
 "nbformat": 4,
 "nbformat_minor": 2
}
