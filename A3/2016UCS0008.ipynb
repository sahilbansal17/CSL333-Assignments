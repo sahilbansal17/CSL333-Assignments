{
 "cells": [
  {
   "cell_type": "markdown",
   "metadata": {},
   "source": [
    "# Assignment 3 (Submitted by: SAHIL 2016UCS0008)"
   ]
  },
  {
   "cell_type": "markdown",
   "metadata": {},
   "source": [
    "## 1. Logistic Regression demo"
   ]
  },
  {
   "cell_type": "markdown",
   "metadata": {},
   "source": [
    "### Import dataset"
   ]
  },
  {
   "cell_type": "code",
   "execution_count": 4,
   "metadata": {},
   "outputs": [],
   "source": [
    "from sklearn import datasets"
   ]
  },
  {
   "cell_type": "code",
   "execution_count": 36,
   "metadata": {},
   "outputs": [],
   "source": [
    "iris = sklearn.datasets.load_iris()"
   ]
  },
  {
   "cell_type": "code",
   "execution_count": 9,
   "metadata": {},
   "outputs": [],
   "source": [
    "X = iris.data[:, :2]\n",
    "y = (iris.target != 0)*1"
   ]
  },
  {
   "cell_type": "code",
   "execution_count": 13,
   "metadata": {},
   "outputs": [
    {
     "name": "stdout",
     "output_type": "stream",
     "text": [
      "(150, 2) (150,)\n"
     ]
    }
   ],
   "source": [
    "print(X.shape, y.shape)"
   ]
  },
  {
   "cell_type": "markdown",
   "metadata": {},
   "source": [
    "### Use inbuilt logistic regression from sklearn library"
   ]
  },
  {
   "cell_type": "code",
   "execution_count": 18,
   "metadata": {},
   "outputs": [],
   "source": [
    "from sklearn.linear_model import LogisticRegression"
   ]
  },
  {
   "cell_type": "code",
   "execution_count": 19,
   "metadata": {},
   "outputs": [],
   "source": [
    "clf = LogisticRegression(random_state=0, solver='lbfgs').fit(X, y)"
   ]
  },
  {
   "cell_type": "code",
   "execution_count": 24,
   "metadata": {},
   "outputs": [
    {
     "name": "stdout",
     "output_type": "stream",
     "text": [
      "[[5.1 3.5]]\n"
     ]
    }
   ],
   "source": [
    "print(X[:1, :])"
   ]
  },
  {
   "cell_type": "code",
   "execution_count": 25,
   "metadata": {},
   "outputs": [
    {
     "data": {
      "text/plain": [
       "array([0])"
      ]
     },
     "execution_count": 25,
     "metadata": {},
     "output_type": "execute_result"
    }
   ],
   "source": [
    "clf.predict(X[:1, :])"
   ]
  },
  {
   "cell_type": "code",
   "execution_count": 26,
   "metadata": {},
   "outputs": [
    {
     "data": {
      "text/plain": [
       "array([[0.89424588, 0.10575412]])"
      ]
     },
     "execution_count": 26,
     "metadata": {},
     "output_type": "execute_result"
    }
   ],
   "source": [
    "clf.predict_proba(X[:1, :])"
   ]
  },
  {
   "cell_type": "code",
   "execution_count": 27,
   "metadata": {},
   "outputs": [
    {
     "data": {
      "text/plain": [
       "1.0"
      ]
     },
     "execution_count": 27,
     "metadata": {},
     "output_type": "execute_result"
    }
   ],
   "source": [
    "clf.score(X, y)"
   ]
  },
  {
   "cell_type": "markdown",
   "metadata": {},
   "source": [
    "## 2. Import libraries"
   ]
  },
  {
   "cell_type": "code",
   "execution_count": 59,
   "metadata": {},
   "outputs": [],
   "source": [
    "import numpy as np\n",
    "import scipy.io\n",
    "import scipy.stats\n",
    "import cv2\n",
    "from sklearn.svm import SVR\n",
    "from sklearn.model_selection import train_test_split\n",
    "from os import listdir\n",
    "from sklearn.linear_model import LogisticRegression"
   ]
  },
  {
   "cell_type": "markdown",
   "metadata": {},
   "source": [
    "## 3. Common part for all the models "
   ]
  },
  {
   "cell_type": "markdown",
   "metadata": {},
   "source": [
    "### Extracting the feature vectors of the image using its reference image by SVD"
   ]
  },
  {
   "cell_type": "code",
   "execution_count": 30,
   "metadata": {},
   "outputs": [],
   "source": [
    "# exploiting the vectorization methods already included in the numpy library\n",
    "def get_feature_vector(ref_image, pred_image):\n",
    "    \n",
    "    # cropping the images to maintain a fixed length format dataset\n",
    "    \n",
    "    #reference image\n",
    "    u_r, s_r, v_r = np.linalg.svd(ref_image[:400, :400])\n",
    "    #predicted/distorted image\n",
    "    u_p, s_p, v_p = np.linalg.svd(pred_image[:400, :400])\n",
    "    #feature vector\n",
    "    feature_vec = np.add(np.absolute(np.sum(u_r.conj()*u_p, axis=0)), np.absolute(np.sum(v_r.conj()*v_p, axis=0)))\n",
    "    return feature_vec"
   ]
  },
  {
   "cell_type": "markdown",
   "metadata": {},
   "source": [
    "### Load the .mat files "
   ]
  },
  {
   "cell_type": "code",
   "execution_count": 31,
   "metadata": {},
   "outputs": [],
   "source": [
    "dmos_mat = scipy.io.loadmat('Live Database/databaserelease2/dmos.mat')\n",
    "ref_names = scipy.io.loadmat('Live Database/databaserelease2/refnames_all.mat')\n",
    "\n",
    "# extraxt the arrays from the loaded mat files\n",
    "refnames_all = ref_names['refnames_all']\n",
    "orgs = dmos_mat['orgs']\n",
    "dmos = dmos_mat['dmos']"
   ]
  },
  {
   "cell_type": "markdown",
   "metadata": {},
   "source": [
    "### Load the reference images"
   ]
  },
  {
   "cell_type": "code",
   "execution_count": 32,
   "metadata": {},
   "outputs": [],
   "source": [
    "ref_images_names = listdir(\"Live Database/databaserelease2/refimgs/\")\n",
    "# print(ref_images_names)\n",
    "ref_images = {} # load the images in this dictionary\n",
    "ref_images_count = len(ref_images_names)\n",
    "for i in range(ref_images_count):\n",
    "    ref_images[ref_images_names[i]] = cv2.imread('Live Database/databaserelease2/refimgs/' + str(ref_images_names[i]), 0)\n",
    "    \n"
   ]
  },
  {
   "cell_type": "markdown",
   "metadata": {},
   "source": [
    "### Create the feature vector"
   ]
  },
  {
   "cell_type": "code",
   "execution_count": 33,
   "metadata": {},
   "outputs": [],
   "source": [
    "X = []\n",
    "folders = ['jp2k', 'jpeg', 'wn', 'gblur', 'fastfading']\n",
    "images = [227, 233, 174, 174, 174]\n",
    "done = 0"
   ]
  },
  {
   "cell_type": "code",
   "execution_count": 35,
   "metadata": {},
   "outputs": [],
   "source": [
    "for f in range(len(folders)):\n",
    "    for i in range(images[f]):\n",
    "        path = 'Live Database/databaserelease2/'+ folders[f] + '/img' + str(i + 1) + '.bmp'\n",
    "        img_p = cv2.imread(path, 0)\n",
    "        ref = refnames_all[:, done + i]\n",
    "        img = ref_images[ref[0][0]]\n",
    "        feature_vector = get_feature_vector(img, img_p)\n",
    "        X.append(feature_vector)\n",
    "    done += images[f]"
   ]
  },
  {
   "cell_type": "code",
   "execution_count": 37,
   "metadata": {},
   "outputs": [
    {
     "name": "stdout",
     "output_type": "stream",
     "text": [
      "[array(['sailing4.bmp'], dtype='<U12')]\n",
      "sailing4.bmp\n",
      "982\n"
     ]
    }
   ],
   "source": [
    "print(ref)\n",
    "print(ref[0][0])\n",
    "print(done)"
   ]
  },
  {
   "cell_type": "code",
   "execution_count": 46,
   "metadata": {},
   "outputs": [],
   "source": [
    "X = np.array(X)\n",
    "Y = dmos[0] # Create the output DMOS matrix for the features"
   ]
  },
  {
   "cell_type": "markdown",
   "metadata": {},
   "source": [
    "## 4. Support Vector Regression"
   ]
  },
  {
   "cell_type": "markdown",
   "metadata": {},
   "source": [
    "### Split into training and testing data"
   ]
  },
  {
   "cell_type": "code",
   "execution_count": 172,
   "metadata": {},
   "outputs": [],
   "source": [
    "X_train, X_test, Y_train, Y_test = train_test_split(X, Y, test_size = 0.2)"
   ]
  },
  {
   "cell_type": "code",
   "execution_count": 173,
   "metadata": {},
   "outputs": [],
   "source": [
    "clf = SVR(C = 1.0, epsilon = 0.1)"
   ]
  },
  {
   "cell_type": "markdown",
   "metadata": {},
   "source": [
    "### Create the SVR classifier, fit on train data, predict on test data"
   ]
  },
  {
   "cell_type": "code",
   "execution_count": 174,
   "metadata": {},
   "outputs": [
    {
     "data": {
      "text/plain": [
       "SVR(C=1.0, cache_size=200, coef0=0.0, degree=3, epsilon=0.1, gamma='auto',\n",
       "  kernel='rbf', max_iter=-1, shrinking=True, tol=0.001, verbose=False)"
      ]
     },
     "execution_count": 174,
     "metadata": {},
     "output_type": "execute_result"
    }
   ],
   "source": [
    "clf.fit(X_train, Y_train)"
   ]
  },
  {
   "cell_type": "code",
   "execution_count": 175,
   "metadata": {},
   "outputs": [
    {
     "data": {
      "text/plain": [
       "0.8527260286599453"
      ]
     },
     "execution_count": 175,
     "metadata": {},
     "output_type": "execute_result"
    }
   ],
   "source": [
    "Y_pred = clf.predict(X_test)\n",
    "clf.score(X_test, Y_test)"
   ]
  },
  {
   "cell_type": "markdown",
   "metadata": {},
   "source": [
    "### Compute the value of PLCC"
   ]
  },
  {
   "cell_type": "code",
   "execution_count": 176,
   "metadata": {},
   "outputs": [
    {
     "name": "stdout",
     "output_type": "stream",
     "text": [
      "PLCC: 0.93 PVAL: 0.00\n"
     ]
    }
   ],
   "source": [
    "plcc, pval = scipy.stats.pearsonr(Y_test, Y_pred)\n",
    "\n",
    "print (\"PLCC: {0:1.2f} PVAL: {1:1.2f}\".format(plcc, pval) )"
   ]
  },
  {
   "cell_type": "markdown",
   "metadata": {},
   "source": [
    "## 5. Logistic Regression"
   ]
  },
  {
   "cell_type": "markdown",
   "metadata": {},
   "source": [
    "### Split into training and testing data"
   ]
  },
  {
   "cell_type": "code",
   "execution_count": 177,
   "metadata": {},
   "outputs": [],
   "source": [
    "X_train, X_test, Y_train, Y_test = train_test_split(X, Y, test_size = 0.2)"
   ]
  },
  {
   "cell_type": "markdown",
   "metadata": {},
   "source": [
    "### Convert continuous output values in y_train to discrete values using encoding"
   ]
  },
  {
   "cell_type": "code",
   "execution_count": 178,
   "metadata": {},
   "outputs": [],
   "source": [
    "# clf = LogisticRegression(random_state=0, solver='lbfgs').fit(X_train, Y_train)\n",
    "\n",
    "# divide the DMOS values for the training data by 100 to make them in the \n",
    "Y_train[:] = Y_train[:]/100\n",
    "Y_test[:] = Y_test[:]/100"
   ]
  },
  {
   "cell_type": "code",
   "execution_count": 179,
   "metadata": {},
   "outputs": [],
   "source": [
    "from sklearn import preprocessing\n",
    "from sklearn import utils\n",
    "\n",
    "lab_enc = preprocessing.LabelEncoder()\n",
    "y_train_encoded = lab_enc.fit_transform(Y_train)"
   ]
  },
  {
   "cell_type": "code",
   "execution_count": 180,
   "metadata": {},
   "outputs": [
    {
     "name": "stdout",
     "output_type": "stream",
     "text": [
      "Y_train: continuous\n",
      "Y_train as int: binary\n",
      "Y_train encoded: multiclass\n",
      "(785, 400)\n"
     ]
    }
   ],
   "source": [
    "# print(encoded)\n",
    "print(\"Y_train:\", utils.multiclass.type_of_target(Y_train))\n",
    "print(\"Y_train as int:\", utils.multiclass.type_of_target(Y_train.astype('int')))\n",
    "print(\"Y_train encoded:\", utils.multiclass.type_of_target(y_train_encoded))\n",
    "\n",
    "print(X_train.shape)"
   ]
  },
  {
   "cell_type": "markdown",
   "metadata": {},
   "source": [
    "### Create the logistic regression classifier and fit on training data"
   ]
  },
  {
   "cell_type": "code",
   "execution_count": 181,
   "metadata": {},
   "outputs": [],
   "source": [
    "clf = LogisticRegression(random_state=0, solver='lbfgs').fit(X_train, y_train_encoded)"
   ]
  },
  {
   "cell_type": "markdown",
   "metadata": {},
   "source": [
    "### Predict on test data"
   ]
  },
  {
   "cell_type": "code",
   "execution_count": 182,
   "metadata": {},
   "outputs": [
    {
     "name": "stdout",
     "output_type": "stream",
     "text": [
      "Predicted values for Y:\n",
      " [259 406   0 137   0 406 229 157 101 371   0   0   0 500 348 229 363   0\n",
      " 419   0   0 194   0 273 531  99   0 164 148 549 611 381 192 607 429 222\n",
      " 459   0 341  92  92   0 186 449 167 532 176 398   0 549 157 329 299 277\n",
      " 417 191 152 549 331   0   0 130 398 145 112   0   0 138 575 592 416  23\n",
      "   0 223 476 311 290 585   0 538 554  60  89 369   0 523 374   0 214   0\n",
      " 391 433   0 458  51 622 580 355 378 484 313 161 370 386 417 239 258 519\n",
      "   0   0   0 227  47   0 485  39 164 550 378 225 337   0 342 325 136 538\n",
      "   0   0 297   0 322 188  31 243   0 449 448 158 227 166   0 165 114 390\n",
      " 546  45 513 398   0 458  76 464 264 320   0 263 449 578 276 491 378 178\n",
      " 132 443 538 227 294  19   0   0 336   0 497 417 230 197 325 166 320   0\n",
      " 550 398 391 592   0 155 412   0 209 200 363 493 219 230 271   0 473]\n",
      "\n",
      "Acutal values for Y:\n",
      " [ 95 111   0  57   0 105  62  12  19 129   0   0   0 120  98  91  99   0\n",
      " 136   0   0  35   0  40 142  23   0   7  18 112 151  73 140  72 132 118\n",
      "  87   0 148  37  20   0  39  38  44 139  22 106   0 103  34  67  56  48\n",
      "  41  26  45  96  82   0   0   5 104  17   1   0   0  29 141 147  88  21\n",
      "   0 125  75  93  92 145   0  80 137   4  24  86   0 126  49   0  77   0\n",
      " 138 143   0 121  30  94 150  74  59 102  55  25 127 146  97  70 133 117\n",
      "   0   0   0  27   3   0  89  16  65 155 128  51  61   0  60  78   8  84\n",
      "   0   0  14   0 122  50  33  42   0  32 119   2  11  13   0  64   9  66\n",
      " 135   6 124 116   0 109  43 110 131  85   0  63  47 114  68 113  79  52\n",
      "  54 107 130  90  58  10   0   0  76   0 115  81  46 152  71  28 101   0\n",
      " 153 149 108 154   0  15 134   0  69  36  83 123  31  53 144   0 100]\n"
     ]
    }
   ],
   "source": [
    "y_test_encoded = lab_enc.fit_transform(Y_test)\n",
    "Y_pred = clf.predict(X_test)\n",
    "print(\"Predicted values for Y:\\n\", Y_pred)\n",
    "print(\"\\nAcutal values for Y:\\n\", y_test_encoded)"
   ]
  },
  {
   "cell_type": "code",
   "execution_count": 183,
   "metadata": {},
   "outputs": [
    {
     "name": "stdout",
     "output_type": "stream",
     "text": [
      "(197, 625)\n"
     ]
    }
   ],
   "source": [
    "# generate the class probabilities\n",
    "probs = clf.predict_proba(X_test)\n",
    "print(probs.shape)"
   ]
  },
  {
   "cell_type": "code",
   "execution_count": 184,
   "metadata": {},
   "outputs": [
    {
     "data": {
      "text/plain": [
       "0.2131979695431472"
      ]
     },
     "execution_count": 184,
     "metadata": {},
     "output_type": "execute_result"
    }
   ],
   "source": [
    "# score of the classifier\n",
    "clf.score(X_test, y_test_encoded)"
   ]
  },
  {
   "cell_type": "markdown",
   "metadata": {},
   "source": [
    "### Compute the value of PLCC"
   ]
  },
  {
   "cell_type": "code",
   "execution_count": 185,
   "metadata": {},
   "outputs": [
    {
     "name": "stdout",
     "output_type": "stream",
     "text": [
      "PLCC: 0.85 PVAL: 0.00\n"
     ]
    }
   ],
   "source": [
    "plcc, pval = scipy.stats.pearsonr(y_test_encoded, Y_pred)\n",
    "\n",
    "print(\"PLCC: {0:1.2f} PVAL: {1:1.2f}\".format(plcc, pval))"
   ]
  },
  {
   "cell_type": "markdown",
   "metadata": {},
   "source": [
    "## 6. Neural Network "
   ]
  },
  {
   "cell_type": "markdown",
   "metadata": {},
   "source": [
    "### Split into training and testing data"
   ]
  },
  {
   "cell_type": "code",
   "execution_count": 186,
   "metadata": {},
   "outputs": [],
   "source": [
    "X_train, X_test, Y_train, Y_test = train_test_split(X, Y, test_size = 0.2)"
   ]
  },
  {
   "cell_type": "markdown",
   "metadata": {},
   "source": [
    "### Label encoding"
   ]
  },
  {
   "cell_type": "code",
   "execution_count": 201,
   "metadata": {},
   "outputs": [],
   "source": [
    "from sklearn import preprocessing\n",
    "from sklearn import utils\n",
    "\n",
    "lab_enc = preprocessing.LabelEncoder()\n",
    "y_train_encoded = lab_enc.fit_transform(Y_train)\n",
    "y_test_encoded = lab_enc.fit_transform(Y_test)"
   ]
  },
  {
   "cell_type": "markdown",
   "metadata": {},
   "source": [
    "### Feature scaling"
   ]
  },
  {
   "cell_type": "code",
   "execution_count": 189,
   "metadata": {},
   "outputs": [],
   "source": [
    "from sklearn.preprocessing import StandardScaler  \n",
    "scaler = StandardScaler()  \n",
    "# Fit only to the training data\n",
    "scaler.fit(X_train)\n",
    "\n",
    "# Now apply the transformations to the data:\n",
    "X_train = scaler.transform(X_train)  \n",
    "X_test = scaler.transform(X_test)  "
   ]
  },
  {
   "cell_type": "markdown",
   "metadata": {},
   "source": [
    "### Training the model"
   ]
  },
  {
   "cell_type": "code",
   "execution_count": 197,
   "metadata": {},
   "outputs": [
    {
     "data": {
      "text/plain": [
       "MLPClassifier(activation='relu', alpha=0.0001, batch_size='auto', beta_1=0.9,\n",
       "       beta_2=0.999, early_stopping=False, epsilon=1e-08,\n",
       "       hidden_layer_sizes=400, learning_rate='constant',\n",
       "       learning_rate_init=0.001, max_iter=1000, momentum=0.9,\n",
       "       nesterovs_momentum=True, power_t=0.5, random_state=None,\n",
       "       shuffle=True, solver='adam', tol=0.0001, validation_fraction=0.1,\n",
       "       verbose=False, warm_start=False)"
      ]
     },
     "execution_count": 197,
     "metadata": {},
     "output_type": "execute_result"
    }
   ],
   "source": [
    "from sklearn.neural_network import MLPClassifier  \n",
    "# no of features per image\n",
    "features = X_train.shape[1]\n",
    "# print(features)\n",
    "\n",
    "# The first parameter, hidden_layer_sizes, is used to set the size of the hidden layers \n",
    "# We will create one hidden layer having size equal to the no of features \n",
    "# The second parameter to MLPClassifier specifies the number of iterations, or the epochs,\n",
    "# that the neural network executes. An epoch is a combination of one cycle of feed-forward and back propagation phase.\n",
    "mlp = MLPClassifier(hidden_layer_sizes=(features), max_iter=1000)  \n",
    "# By default the 'relu' activation function is used with 'adam' cost optimizer. \n",
    "\n",
    "mlp.fit(X_train, y_train_encoded)  "
   ]
  },
  {
   "cell_type": "markdown",
   "metadata": {},
   "source": [
    "### Predict on the test data and evaluating the performance"
   ]
  },
  {
   "cell_type": "code",
   "execution_count": 199,
   "metadata": {},
   "outputs": [],
   "source": [
    "Y_pred = mlp.predict(X_test)  "
   ]
  },
  {
   "cell_type": "code",
   "execution_count": 208,
   "metadata": {},
   "outputs": [
    {
     "name": "stdout",
     "output_type": "stream",
     "text": [
      "0.2436548223350254\n"
     ]
    }
   ],
   "source": [
    "from sklearn.metrics import classification_report, confusion_matrix, accuracy_score  \n",
    "# print(confusion_matrix(y_test_encoded, Y_pred))  \n",
    "# print(classification_report(y_test_encoded, Y_pred))  \n",
    "print(accuracy_score(y_test_encoded, Y_pred))"
   ]
  }
 ],
 "metadata": {
  "kernelspec": {
   "display_name": "Python 3",
   "language": "python",
   "name": "python3"
  },
  "language_info": {
   "codemirror_mode": {
    "name": "ipython",
    "version": 3
   },
   "file_extension": ".py",
   "mimetype": "text/x-python",
   "name": "python",
   "nbconvert_exporter": "python",
   "pygments_lexer": "ipython3",
   "version": "3.6.5"
  }
 },
 "nbformat": 4,
 "nbformat_minor": 2
}
