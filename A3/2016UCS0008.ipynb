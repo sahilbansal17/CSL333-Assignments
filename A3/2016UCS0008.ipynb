{
 "cells": [
  {
   "cell_type": "markdown",
   "metadata": {},
   "source": [
    "# Assignment 3 (Submitted by: SAHIL 2016UCS0008)"
   ]
  },
  {
   "cell_type": "markdown",
   "metadata": {},
   "source": [
    "## 1. Logistic Regression demo"
   ]
  },
  {
   "cell_type": "markdown",
   "metadata": {},
   "source": [
    "### Import dataset"
   ]
  },
  {
   "cell_type": "code",
   "execution_count": 4,
   "metadata": {},
   "outputs": [],
   "source": [
    "from sklearn import datasets"
   ]
  },
  {
   "cell_type": "code",
   "execution_count": 36,
   "metadata": {},
   "outputs": [],
   "source": [
    "iris = sklearn.datasets.load_iris()"
   ]
  },
  {
   "cell_type": "code",
   "execution_count": 9,
   "metadata": {},
   "outputs": [],
   "source": [
    "X = iris.data[:, :2]\n",
    "y = (iris.target != 0)*1"
   ]
  },
  {
   "cell_type": "code",
   "execution_count": 13,
   "metadata": {},
   "outputs": [
    {
     "name": "stdout",
     "output_type": "stream",
     "text": [
      "(150, 2) (150,)\n"
     ]
    }
   ],
   "source": [
    "print(X.shape, y.shape)"
   ]
  },
  {
   "cell_type": "markdown",
   "metadata": {},
   "source": [
    "### Use inbuilt logistic regression from sklearn library"
   ]
  },
  {
   "cell_type": "code",
   "execution_count": 18,
   "metadata": {},
   "outputs": [],
   "source": [
    "from sklearn.linear_model import LogisticRegression"
   ]
  },
  {
   "cell_type": "code",
   "execution_count": 19,
   "metadata": {},
   "outputs": [],
   "source": [
    "clf = LogisticRegression(random_state=0, solver='lbfgs').fit(X, y)"
   ]
  },
  {
   "cell_type": "code",
   "execution_count": 24,
   "metadata": {},
   "outputs": [
    {
     "name": "stdout",
     "output_type": "stream",
     "text": [
      "[[5.1 3.5]]\n"
     ]
    }
   ],
   "source": [
    "print(X[:1, :])"
   ]
  },
  {
   "cell_type": "code",
   "execution_count": 25,
   "metadata": {},
   "outputs": [
    {
     "data": {
      "text/plain": [
       "array([0])"
      ]
     },
     "execution_count": 25,
     "metadata": {},
     "output_type": "execute_result"
    }
   ],
   "source": [
    "clf.predict(X[:1, :])"
   ]
  },
  {
   "cell_type": "code",
   "execution_count": 26,
   "metadata": {},
   "outputs": [
    {
     "data": {
      "text/plain": [
       "array([[0.89424588, 0.10575412]])"
      ]
     },
     "execution_count": 26,
     "metadata": {},
     "output_type": "execute_result"
    }
   ],
   "source": [
    "clf.predict_proba(X[:1, :])"
   ]
  },
  {
   "cell_type": "code",
   "execution_count": 27,
   "metadata": {},
   "outputs": [
    {
     "data": {
      "text/plain": [
       "1.0"
      ]
     },
     "execution_count": 27,
     "metadata": {},
     "output_type": "execute_result"
    }
   ],
   "source": [
    "clf.score(X, y)"
   ]
  },
  {
   "cell_type": "markdown",
   "metadata": {},
   "source": [
    "## 2. Import libraries"
   ]
  },
  {
   "cell_type": "code",
   "execution_count": 59,
   "metadata": {},
   "outputs": [],
   "source": [
    "import numpy as np\n",
    "import scipy.io\n",
    "import scipy.stats\n",
    "import cv2\n",
    "from sklearn.svm import SVR\n",
    "from sklearn.model_selection import train_test_split\n",
    "from os import listdir\n",
    "from sklearn.linear_model import LogisticRegression"
   ]
  },
  {
   "cell_type": "markdown",
   "metadata": {},
   "source": [
    "## 3. Common part for all the models "
   ]
  },
  {
   "cell_type": "markdown",
   "metadata": {},
   "source": [
    "### Extracting the feature vectors of the image using its reference image by SVD"
   ]
  },
  {
   "cell_type": "code",
   "execution_count": 30,
   "metadata": {},
   "outputs": [],
   "source": [
    "# exploiting the vectorization methods already included in the numpy library\n",
    "def get_feature_vector(ref_image, pred_image):\n",
    "    \n",
    "    # cropping the images to maintain a fixed length format dataset\n",
    "    \n",
    "    #reference image\n",
    "    u_r, s_r, v_r = np.linalg.svd(ref_image[:400, :400])\n",
    "    #predicted/distorted image\n",
    "    u_p, s_p, v_p = np.linalg.svd(pred_image[:400, :400])\n",
    "    #feature vector\n",
    "    feature_vec = np.add(np.absolute(np.sum(u_r.conj()*u_p, axis=0)), np.absolute(np.sum(v_r.conj()*v_p, axis=0)))\n",
    "    return feature_vec"
   ]
  },
  {
   "cell_type": "markdown",
   "metadata": {},
   "source": [
    "### Load the .mat files "
   ]
  },
  {
   "cell_type": "code",
   "execution_count": 31,
   "metadata": {},
   "outputs": [],
   "source": [
    "dmos_mat = scipy.io.loadmat('Live Database/databaserelease2/dmos.mat')\n",
    "ref_names = scipy.io.loadmat('Live Database/databaserelease2/refnames_all.mat')\n",
    "\n",
    "# extraxt the arrays from the loaded mat files\n",
    "refnames_all = ref_names['refnames_all']\n",
    "orgs = dmos_mat['orgs']\n",
    "dmos = dmos_mat['dmos']"
   ]
  },
  {
   "cell_type": "markdown",
   "metadata": {},
   "source": [
    "### Load the reference images"
   ]
  },
  {
   "cell_type": "code",
   "execution_count": 32,
   "metadata": {},
   "outputs": [],
   "source": [
    "ref_images_names = listdir(\"Live Database/databaserelease2/refimgs/\")\n",
    "# print(ref_images_names)\n",
    "ref_images = {} # load the images in this dictionary\n",
    "ref_images_count = len(ref_images_names)\n",
    "for i in range(ref_images_count):\n",
    "    ref_images[ref_images_names[i]] = cv2.imread('Live Database/databaserelease2/refimgs/' + str(ref_images_names[i]), 0)\n",
    "    \n"
   ]
  },
  {
   "cell_type": "markdown",
   "metadata": {},
   "source": [
    "### Create the feature vector"
   ]
  },
  {
   "cell_type": "code",
   "execution_count": 33,
   "metadata": {},
   "outputs": [],
   "source": [
    "X = []\n",
    "folders = ['jp2k', 'jpeg', 'wn', 'gblur', 'fastfading']\n",
    "images = [227, 233, 174, 174, 174]\n",
    "done = 0"
   ]
  },
  {
   "cell_type": "code",
   "execution_count": 35,
   "metadata": {},
   "outputs": [],
   "source": [
    "for f in range(len(folders)):\n",
    "    for i in range(images[f]):\n",
    "        path = 'Live Database/databaserelease2/'+ folders[f] + '/img' + str(i + 1) + '.bmp'\n",
    "        img_p = cv2.imread(path, 0)\n",
    "        ref = refnames_all[:, done + i]\n",
    "        img = ref_images[ref[0][0]]\n",
    "        feature_vector = get_feature_vector(img, img_p)\n",
    "        X.append(feature_vector)\n",
    "    done += images[f]"
   ]
  },
  {
   "cell_type": "code",
   "execution_count": 37,
   "metadata": {},
   "outputs": [
    {
     "name": "stdout",
     "output_type": "stream",
     "text": [
      "[array(['sailing4.bmp'], dtype='<U12')]\n",
      "sailing4.bmp\n",
      "982\n"
     ]
    }
   ],
   "source": [
    "print(ref)\n",
    "print(ref[0][0])\n",
    "print(done)"
   ]
  },
  {
   "cell_type": "code",
   "execution_count": 46,
   "metadata": {},
   "outputs": [],
   "source": [
    "X = np.array(X)\n",
    "Y = dmos[0] # Create the output DMOS matrix for the features"
   ]
  },
  {
   "cell_type": "markdown",
   "metadata": {},
   "source": [
    "## 4. Support Vector Regression"
   ]
  },
  {
   "cell_type": "markdown",
   "metadata": {},
   "source": [
    "### Split into training and testing data"
   ]
  },
  {
   "cell_type": "code",
   "execution_count": 107,
   "metadata": {},
   "outputs": [],
   "source": [
    "X_train, X_test, Y_train, Y_test = train_test_split(X, Y, test_size = 0.2)"
   ]
  },
  {
   "cell_type": "markdown",
   "metadata": {},
   "source": [
    "### Create the SVR classifier, fit on train data, predict on test data"
   ]
  },
  {
   "cell_type": "code",
   "execution_count": 108,
   "metadata": {},
   "outputs": [],
   "source": [
    "clf = SVR(C = 1.0, epsilon = 0.1)"
   ]
  },
  {
   "cell_type": "code",
   "execution_count": 109,
   "metadata": {},
   "outputs": [
    {
     "data": {
      "text/plain": [
       "SVR(C=1.0, cache_size=200, coef0=0.0, degree=3, epsilon=0.1, gamma='auto',\n",
       "  kernel='rbf', max_iter=-1, shrinking=True, tol=0.001, verbose=False)"
      ]
     },
     "execution_count": 109,
     "metadata": {},
     "output_type": "execute_result"
    }
   ],
   "source": [
    "clf.fit(X_train, Y_train)"
   ]
  },
  {
   "cell_type": "code",
   "execution_count": 112,
   "metadata": {},
   "outputs": [
    {
     "data": {
      "text/plain": [
       "0.8651527390330838"
      ]
     },
     "execution_count": 112,
     "metadata": {},
     "output_type": "execute_result"
    }
   ],
   "source": [
    "Y_pred = clf.predict(X_test)\n",
    "clf.score(X_test, Y_test)"
   ]
  },
  {
   "cell_type": "markdown",
   "metadata": {},
   "source": [
    "### Compute the value of PLCC"
   ]
  },
  {
   "cell_type": "code",
   "execution_count": 113,
   "metadata": {},
   "outputs": [
    {
     "name": "stdout",
     "output_type": "stream",
     "text": [
      "PLCC: 0.94 PVAL: 0.00\n"
     ]
    }
   ],
   "source": [
    "plcc, pval = scipy.stats.pearsonr(Y_test, Y_pred)\n",
    "\n",
    "print (\"PLCC: {0:1.2f} PVAL: {1:1.2f}\".format(plcc, pval) )"
   ]
  },
  {
   "cell_type": "markdown",
   "metadata": {},
   "source": [
    "## 5. Logistic Regression"
   ]
  },
  {
   "cell_type": "markdown",
   "metadata": {},
   "source": [
    "### Convert continuous output values in y_train to discrete values using encoding"
   ]
  },
  {
   "cell_type": "code",
   "execution_count": 114,
   "metadata": {},
   "outputs": [],
   "source": [
    "# clf = LogisticRegression(random_state=0, solver='lbfgs').fit(X_train, Y_train)\n",
    "\n",
    "# divide the DMOS values for the training data by 100 as kind of feature scaling\n",
    "Y_train[:] = Y_train[:]/100"
   ]
  },
  {
   "cell_type": "code",
   "execution_count": 115,
   "metadata": {},
   "outputs": [],
   "source": [
    "from sklearn import preprocessing\n",
    "from sklearn import utils\n",
    "\n",
    "lab_enc = preprocessing.LabelEncoder()\n",
    "y_train_encoded = lab_enc.fit_transform(Y_train)"
   ]
  },
  {
   "cell_type": "code",
   "execution_count": 122,
   "metadata": {},
   "outputs": [
    {
     "name": "stdout",
     "output_type": "stream",
     "text": [
      "Y_train: continuous\n",
      "Y_train as int: binary\n",
      "Y_train encoded: multiclass\n",
      "(785, 400)\n"
     ]
    }
   ],
   "source": [
    "# print(encoded)\n",
    "print(\"Y_train:\", utils.multiclass.type_of_target(Y_train))\n",
    "print(\"Y_train as int:\", utils.multiclass.type_of_target(Y_train.astype('int')))\n",
    "print(\"Y_train encoded:\", utils.multiclass.type_of_target(y_train_encoded))\n",
    "\n",
    "print(X_train.shape)"
   ]
  },
  {
   "cell_type": "markdown",
   "metadata": {},
   "source": [
    "### Create the logistic regression classifier and fit on training data"
   ]
  },
  {
   "cell_type": "code",
   "execution_count": 117,
   "metadata": {},
   "outputs": [],
   "source": [
    "clf = LogisticRegression(random_state=0, solver='lbfgs').fit(X_train, y_train_encoded)"
   ]
  },
  {
   "cell_type": "markdown",
   "metadata": {},
   "source": [
    "### Predict on test data"
   ]
  },
  {
   "cell_type": "code",
   "execution_count": 118,
   "metadata": {},
   "outputs": [
    {
     "name": "stdout",
     "output_type": "stream",
     "text": [
      "[578  52 452 452   0 558   0   0   0   0   0 534 123 358 461 100   0   0\n",
      " 267 141 326 395 482 603  37   0 374 402  90 590   0   0 199   0 381 291\n",
      " 381 588 236 384 202 566 357  67 141   0 150 332   0 388 551 189 245 246\n",
      " 591 487 416   0   6 449 150 612 128 133 274 598 388 334 210 165   0   0\n",
      " 219   0 408 163 569 246 465 223 143 578 177  23 348   0 245 541 601 449\n",
      " 416 141  18   0  41   0 319 452 556 212 402 278   0 408 549 576   0 339\n",
      " 384  23 452   0 603   0 194   0 603 603   0 246   0   0 422  71   0 223\n",
      " 208 133   0 245  24   0  17   0 240 607 401 206  87   0 549   0 179 625\n",
      " 357 618   0 260 346 629 548 109 236 257 182   0 595 251 406 237   0   0\n",
      " 253   0 119   0 228 107   0 319  25   0   0 474 387 232 157   0  20   0\n",
      "   0 262   0 177  41 515 239 260 360 233 592   0 248 629 386 298 514]\n"
     ]
    }
   ],
   "source": [
    "y_test_encoded = lab_enc.fit_transform(Y_test)\n",
    "Y_pred = clf.predict(X_test)\n",
    "print(Y_pred)"
   ]
  },
  {
   "cell_type": "code",
   "execution_count": 119,
   "metadata": {},
   "outputs": [
    {
     "name": "stdout",
     "output_type": "stream",
     "text": [
      "(197, 632)\n"
     ]
    }
   ],
   "source": [
    "# generate the class probabilities\n",
    "probs = clf.predict_proba(X_test)\n",
    "print(probs.shape)"
   ]
  },
  {
   "cell_type": "code",
   "execution_count": 120,
   "metadata": {},
   "outputs": [
    {
     "data": {
      "text/plain": [
       "0.24873096446700507"
      ]
     },
     "execution_count": 120,
     "metadata": {},
     "output_type": "execute_result"
    }
   ],
   "source": [
    "# score of the classifier\n",
    "clf.score(X_test, y_test_encoded)"
   ]
  },
  {
   "cell_type": "markdown",
   "metadata": {},
   "source": [
    "### Compute the value of PLCC"
   ]
  },
  {
   "cell_type": "code",
   "execution_count": 121,
   "metadata": {},
   "outputs": [
    {
     "name": "stdout",
     "output_type": "stream",
     "text": [
      "PLCC: 0.91 PVAL: 0.00\n"
     ]
    }
   ],
   "source": [
    "plcc, pval = scipy.stats.pearsonr(y_test_encoded, Y_pred)\n",
    "\n",
    "print(\"PLCC: {0:1.2f} PVAL: {1:1.2f}\".format(plcc, pval))"
   ]
  },
  {
   "cell_type": "code",
   "execution_count": null,
   "metadata": {},
   "outputs": [],
   "source": []
  }
 ],
 "metadata": {
  "kernelspec": {
   "display_name": "Python 3",
   "language": "python",
   "name": "python3"
  },
  "language_info": {
   "codemirror_mode": {
    "name": "ipython",
    "version": 3
   },
   "file_extension": ".py",
   "mimetype": "text/x-python",
   "name": "python",
   "nbconvert_exporter": "python",
   "pygments_lexer": "ipython3",
   "version": "3.6.5"
  }
 },
 "nbformat": 4,
 "nbformat_minor": 2
}
