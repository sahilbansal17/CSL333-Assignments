{
 "cells": [
  {
   "cell_type": "markdown",
   "metadata": {},
   "source": [
    "## Generating a random connected graph with designated with start and goal cities"
   ]
  },
  {
   "cell_type": "code",
   "execution_count": 311,
   "metadata": {},
   "outputs": [
    {
     "data": {
      "text/plain": [
       "{(0, 0): [(0, 1)],\n",
       " (0, 1): [(0, 2), (0, 0), (1, 1)],\n",
       " (0, 2): [(0, 3), (0, 1), (1, 2)],\n",
       " (0, 3): [(0, 4), (0, 2), (1, 3)],\n",
       " (0, 4): [(0, 3), (1, 4)],\n",
       " (1, 0): [(1, 1), (2, 0), (0, 0)],\n",
       " (1, 1): [(1, 2), (0, 1)],\n",
       " (1, 2): [(1, 3), (1, 1), (2, 2), (0, 2)],\n",
       " (1, 3): [(1, 4), (1, 2), (0, 3)],\n",
       " (1, 4): [(1, 3), (0, 4)],\n",
       " (2, 0): [(3, 0)],\n",
       " (2, 1): [(2, 2), (2, 0), (3, 1), (1, 1)],\n",
       " (2, 2): [(3, 2), (1, 2)],\n",
       " (2, 3): [(2, 2), (3, 3), (1, 3)],\n",
       " (2, 4): [(3, 4), (1, 4)],\n",
       " (3, 0): [(3, 1), (2, 0)],\n",
       " (3, 1): [(3, 2), (3, 0), (4, 1)],\n",
       " (3, 2): [(3, 3), (3, 1), (4, 2), (2, 2)],\n",
       " (3, 3): [(3, 4), (3, 2), (4, 3)],\n",
       " (3, 4): [(3, 3), (4, 4)],\n",
       " (4, 0): [(4, 1), (3, 0)],\n",
       " (4, 1): [(4, 2), (3, 1)],\n",
       " (4, 2): [(4, 3), (4, 1), (3, 2)],\n",
       " (4, 3): [(4, 4), (4, 2), (3, 3)],\n",
       " (4, 4): [(4, 3), (3, 4)]}"
      ]
     },
     "execution_count": 311,
     "metadata": {},
     "output_type": "execute_result"
    }
   ],
   "source": [
    "# each city is represented as a 2D (x, y) coordinate \n",
    "# thus a 1000*1000 grid represents 1 million cities\n",
    "\n",
    "import random\n",
    "\n",
    "N, S, E, W = DIRECTIONS = [(0, 1), (0, -1), (1, 0), (-1, 0)]\n",
    "\n",
    "def Grid(width, height, obstacles=0.2):\n",
    "    \"\"\"A 2-D grid, width x height, with obstacles denoting the density of obstacles, chosen at random\"\"\"\n",
    "    grid = {(x, y) for x in range(width) for y in range(height)}\n",
    "    if isinstance(obstacles, (float, int)):\n",
    "        obstacles = random.sample(grid, int(width * height * obstacles))\n",
    "    def neighbors(x, y):\n",
    "        for (dx, dy) in DIRECTIONS:\n",
    "            (nx, ny) = (x + dx, y + dy)\n",
    "            if (nx, ny) not in obstacles and 0 <= nx < width and 0 <= ny < height:\n",
    "                yield (nx, ny)\n",
    "    return {(x, y): list(neighbors(x, y))\n",
    "            for x in range(width) for y in range(height)}\n",
    "\n",
    "Grid(5, 5)"
   ]
  },
  {
   "cell_type": "markdown",
   "metadata": {},
   "source": [
    "## Breadth first search"
   ]
  },
  {
   "cell_type": "code",
   "execution_count": 259,
   "metadata": {},
   "outputs": [],
   "source": [
    "def breadth_first_search(problem):\n",
    "    \"Search for goal; paths with least number of steps first.\"\n",
    "    if problem.is_goal(problem.initial): \n",
    "        return Node(problem.initial)\n",
    "    frontier = FrontierQ(Node(problem.initial), LIFO=False)\n",
    "    explored = set()\n",
    "    while frontier:\n",
    "        node = frontier.pop()\n",
    "        explored.add(node.state)\n",
    "        for action in problem.actions(node.state):\n",
    "            child = node.child(problem, action)\n",
    "            if child.state not in explored and child.state not in frontier:\n",
    "                if problem.is_goal(child.state):\n",
    "                    return child\n",
    "                frontier.add(child)"
   ]
  },
  {
   "cell_type": "markdown",
   "metadata": {},
   "source": [
    "## Uniform Cost Search "
   ]
  },
  {
   "cell_type": "code",
   "execution_count": 260,
   "metadata": {},
   "outputs": [],
   "source": [
    "def uniform_cost_search(problem, costfn=lambda node: node.path_cost):\n",
    "    frontier = FrontierPQ(Node(problem.initial), costfn)\n",
    "    explored = set()\n",
    "    while frontier:\n",
    "        node = frontier.pop()\n",
    "        if problem.is_goal(node.state):\n",
    "            return node\n",
    "        explored.add(node.state)\n",
    "        for action in problem.actions(node.state):\n",
    "            child = node.child(problem, action)\n",
    "            if child.state not in explored and child not in frontier:\n",
    "                frontier.add(child)\n",
    "            elif child in frontier and frontier.cost[child] < child.path_cost:\n",
    "                frontier.replace(child)"
   ]
  },
  {
   "cell_type": "markdown",
   "metadata": {},
   "source": [
    "## A* Search"
   ]
  },
  {
   "cell_type": "code",
   "execution_count": 261,
   "metadata": {},
   "outputs": [],
   "source": [
    "def astar_search(problem, heuristic):\n",
    "    costfn = lambda node: node.path_cost + heuristic(node, problem.goals)\n",
    "    return uniform_cost_search(problem, costfn)"
   ]
  },
  {
   "cell_type": "markdown",
   "metadata": {},
   "source": [
    "## Best First Search"
   ]
  },
  {
   "cell_type": "code",
   "execution_count": 262,
   "metadata": {},
   "outputs": [],
   "source": [
    "def best_first_search(problem, heuristic):\n",
    "    costfn = lambda node: heuristic(node, problem.goals)\n",
    "    return uniform_cost_search(problem, costfn)"
   ]
  },
  {
   "cell_type": "markdown",
   "metadata": {},
   "source": [
    "## Hill Climbing Search "
   ]
  },
  {
   "cell_type": "code",
   "execution_count": 291,
   "metadata": {},
   "outputs": [],
   "source": [
    "# # def argmin_random_tie(seq, fn):\n",
    "#     best_score, best = fn(seq[0]), []\n",
    "#     for x in seq:\n",
    "#         x_score = fn(x)\n",
    "#         if x_score < best_score:\n",
    "#             best, best_score = [x], x_score\n",
    "#         elif x_score == best_score:\n",
    "#             best.append(x)\n",
    "#         return best\n",
    "    \n",
    "def hill_climbing(problem, heuristic):\n",
    "    \"\"\"From the initial node, keep choosing the neighbor with smallest heuristic value,\n",
    "    stopping when no neighbor is better. [Figure 4.2]\"\"\"\n",
    "#     current = Node(problem.initial)\n",
    "    \n",
    "#     neighbour_idx = 0\n",
    "#     while True:\n",
    "#         neighbors = current.expand(problem)\n",
    "#         if not neighbors:\n",
    "#             break\n",
    "#         neighbor = argmin_random_tie(neighbors,\n",
    "#                                      fn=lambda node: heuristic(node, problem.goals))\n",
    "#         possible = 0\n",
    "#         for n in neighbor:\n",
    "#             if (heuristic(n, problem.goals) < heuristic(current, problem.goals)):\n",
    "#                 possible = 1\n",
    "#                 current = n\n",
    "#                 break\n",
    "#         if (possible == 0):\n",
    "#             break\n",
    "#         print(neighbors)\n",
    "#     return current.state\n",
    "\n",
    "    frontier = FrontierQ(Node(problem.initial), LIFO = False)\n",
    "    explored = set()\n",
    "    while frontier:\n",
    "        node = frontier.pop()\n",
    "        if problem.is_goal(node.state):\n",
    "            return node\n",
    "        explored.add(node.state)\n",
    "        next_possible = []\n",
    "        for action in problem.actions(node.state):\n",
    "            child = node.child(problem, action)\n",
    "            if child.state not in explored:\n",
    "                if (len(next_possible) == 0):\n",
    "                    next_possible.append(child)\n",
    "                    best_heuristic = heuristic(child, problem.goals)\n",
    "                else:\n",
    "                    if (heuristic(child, problem.goals) < best_heuristic):\n",
    "                        best_heuristic = heuristic(child, problem.goals)\n",
    "                        next_possible = [child]\n",
    "        if(len(next_possible) == 0):\n",
    "            break\n",
    "#         print(next_possible[0])\n",
    "        frontier.add(next_possible[0])"
   ]
  },
  {
   "cell_type": "markdown",
   "metadata": {},
   "source": [
    "## Search Problem"
   ]
  },
  {
   "cell_type": "code",
   "execution_count": 264,
   "metadata": {},
   "outputs": [],
   "source": [
    "class Problem(object):\n",
    "    \"\"\"The abstract class for a search problem.\"\"\"\n",
    "\n",
    "    def __init__(self, initial=None, goals=(), **additional_keywords):\n",
    "        \"\"\"Provide an initial state and optional goal states.\n",
    "        A subclass can have additional keyword arguments.\"\"\"\n",
    "        self.initial = initial  # The initial state of the problem.\n",
    "        self.goals = goals      # A collection of possible goal states.\n",
    "        self.__dict__.update(**additional_keywords)\n",
    "\n",
    "    def actions(self, state):\n",
    "        \"Return a list of actions executable in this state.\"\n",
    "        raise NotImplementedError # Override this!\n",
    "\n",
    "    def result(self, state, action):\n",
    "        \"The state that results from executing this action in this state.\"\n",
    "        raise NotImplementedError # Override this!\n",
    "\n",
    "    def is_goal(self, state):\n",
    "        \"True if the state is a goal.\" \n",
    "        return state in self.goals # Optionally override this!\n",
    "\n",
    "    def step_cost(self, state, action, result=None):\n",
    "        \"The cost of taking this action from this state.\"\n",
    "        return 1 # Override this if actions have different costs"
   ]
  },
  {
   "cell_type": "code",
   "execution_count": 265,
   "metadata": {},
   "outputs": [],
   "source": [
    "def action_sequence(node):\n",
    "    \"The sequence of actions to get to this node.\"\n",
    "    actions = []\n",
    "    while node.previous:\n",
    "        actions.append(node.action)\n",
    "        node = node.previous\n",
    "    return actions[::-1]\n",
    "\n",
    "def state_sequence(node):\n",
    "    \"The sequence of states to get to this node.\"\n",
    "    states = [node.state]\n",
    "    while node.previous:\n",
    "        node = node.previous\n",
    "        states.append(node.state)\n",
    "    return states[::-1]"
   ]
  },
  {
   "cell_type": "markdown",
   "metadata": {},
   "source": [
    "## Frontiers"
   ]
  },
  {
   "cell_type": "code",
   "execution_count": 266,
   "metadata": {},
   "outputs": [],
   "source": [
    "from collections import OrderedDict\n",
    "import heapq\n",
    "\n",
    "class FrontierQ(OrderedDict):\n",
    "    \"A Frontier that supports FIFO or LIFO Queue ordering.\"\n",
    "    \n",
    "    def __init__(self, initial, LIFO=False):\n",
    "        \"\"\"Initialize Frontier with an initial Node.\n",
    "        If LIFO is True, pop from the end first; otherwise from front first.\"\"\"\n",
    "        super(FrontierQ, self).__init__()\n",
    "        self.LIFO = LIFO\n",
    "        self.add(initial)\n",
    "    \n",
    "    def add(self, node):\n",
    "        \"Add a node to the frontier.\"\n",
    "        self[node.state] = node\n",
    "        \n",
    "    def pop(self):\n",
    "        \"Remove and return the next Node in the frontier.\"\n",
    "        (state, node) = self.popitem(self.LIFO)\n",
    "        return node\n",
    "    \n",
    "    def replace(self, node):\n",
    "        \"Make this node replace the nold node with the same state.\"\n",
    "        del self[node.state]\n",
    "        self.add(node)"
   ]
  },
  {
   "cell_type": "code",
   "execution_count": 267,
   "metadata": {},
   "outputs": [],
   "source": [
    "class FrontierPQ:\n",
    "    \"A Frontier ordered by a cost function; a Priority Queue.\"\n",
    "    \n",
    "    def __init__(self, initial, costfn=lambda node: node.path_cost):\n",
    "        \"Initialize Frontier with an initial Node, and specify a cost function.\"\n",
    "        self.heap   = []\n",
    "        self.states = {}\n",
    "        self.costfn = costfn\n",
    "        self.add(initial)\n",
    "    \n",
    "    def add(self, node):\n",
    "        \"Add node to the frontier.\"\n",
    "        cost = self.costfn(node)\n",
    "        heapq.heappush(self.heap, (cost, node))\n",
    "        self.states[node.state] = node\n",
    "        \n",
    "    def pop(self):\n",
    "        \"Remove and return the Node with minimum cost.\"\n",
    "        (cost, node) = heapq.heappop(self.heap)\n",
    "        self.states.pop(node.state, None) # remove state\n",
    "        return node\n",
    "    \n",
    "    def replace(self, node):\n",
    "        \"Make this node replace a previous node with the same state.\"\n",
    "        if node.state not in self:\n",
    "            raise ValueError('{} not there to replace'.format(node.state))\n",
    "        for (i, (cost, old_node)) in enumerate(self.heap):\n",
    "            if old_node.state == node.state:\n",
    "                self.heap[i] = (self.costfn(node), node)\n",
    "                heapq._siftdown(self.heap, 0, i)\n",
    "                return\n",
    "\n",
    "    def __contains__(self, state): return state in self.states\n",
    "    \n",
    "    def __len__(self): return len(self.heap)"
   ]
  },
  {
   "cell_type": "markdown",
   "metadata": {},
   "source": [
    "## Node "
   ]
  },
  {
   "cell_type": "code",
   "execution_count": 268,
   "metadata": {},
   "outputs": [],
   "source": [
    "class Node(object):\n",
    "    \"\"\"A node in a search tree. A search tree is spanning tree over states.\n",
    "    A Node contains a state, the previous node in the tree, the action that\n",
    "    takes us from the previous state to this state, and the path cost to get to \n",
    "    this state. If a state is arrived at by two paths, then there are two nodes \n",
    "    with the same state.\"\"\"\n",
    "\n",
    "    def __init__(self, state, previous=None, action=None, step_cost=1):\n",
    "        \"Create a search tree Node, derived from a previous Node by an action.\"\n",
    "        self.state     = state\n",
    "        self.previous  = previous\n",
    "        self.action    = action\n",
    "        self.path_cost = 0 if previous is None else (previous.path_cost + step_cost)\n",
    "\n",
    "    def __repr__(self): return \"<Node {}: {}>\".format(self.state, self.path_cost)\n",
    "    \n",
    "    def __lt__(self, other): return self.path_cost < other.path_cost\n",
    "    \n",
    "    def child(self, problem, action):\n",
    "        \"The Node you get by taking an action from this Node.\"\n",
    "        result = problem.result(self.state, action)\n",
    "        return Node(result, self, action, \n",
    "                    problem.step_cost(self.state, action, result))\n",
    "    \n",
    "    def expand(self, problem):\n",
    "        \"\"\"List the nodes reachable in one step from this node.\"\"\"\n",
    "        return [self.child(problem, action)\n",
    "                for action in problem.actions(self.state)]"
   ]
  },
  {
   "cell_type": "markdown",
   "metadata": {},
   "source": [
    "## Visualization Output"
   ]
  },
  {
   "cell_type": "code",
   "execution_count": 269,
   "metadata": {},
   "outputs": [],
   "source": [
    "def showpath(searcher, problem):\n",
    "    \"Show what happens when searcvher solves problem.\"\n",
    "    problem = Instrumented(problem)\n",
    "    print('\\n{}:'.format(searcher.__name__))\n",
    "    result = searcher(problem)\n",
    "    if result:\n",
    "        actions = action_sequence(result)\n",
    "        state = problem.initial\n",
    "        path_cost = 0\n",
    "        for steps, action in enumerate(actions, 1):\n",
    "            path_cost += problem.step_cost(state, action, 0)\n",
    "            result = problem.result(state, action)\n",
    "            print('  {} =={}==> {}; cost {} after {} steps'\n",
    "                  .format(state, action, result, path_cost, steps,\n",
    "                          '; GOAL!' if problem.is_goal(result) else ''))\n",
    "            state = result\n",
    "    msg = 'GOAL FOUND' if result else 'no solution'\n",
    "    print('{} after {} results and {} goal checks'\n",
    "          .format(msg, problem._counter['result'], problem._counter['is_goal']))\n",
    "    \n",
    "def showpath_heuristic(searcher, problem, heuristic):\n",
    "    \"Show what happens when searcvher solves problem.\"\n",
    "    problem = Instrumented(problem)\n",
    "    print('\\n{}:'.format(searcher.__name__))\n",
    "    result = searcher(problem, heuristic)\n",
    "    if result:\n",
    "        actions = action_sequence(result)\n",
    "        state = problem.initial\n",
    "        path_cost = 0\n",
    "        for steps, action in enumerate(actions, 1):\n",
    "            path_cost += problem.step_cost(state, action, 0)\n",
    "            result = problem.result(state, action)\n",
    "            print('  {} =={}==> {}; cost {} after {} steps'\n",
    "                  .format(state, action, result, path_cost, steps,\n",
    "                          '; GOAL!' if problem.is_goal(result) else ''))\n",
    "            state = result\n",
    "    msg = 'GOAL FOUND' if result else 'no solution'\n",
    "    print('{} after {} results and {} goal checks'\n",
    "          .format(msg, problem._counter['result'], problem._counter['is_goal']))\n",
    "    \n",
    "from collections import Counter\n",
    "\n",
    "class Instrumented:\n",
    "    \"Instrument an object to count all the attribute accesses in _counter.\"\n",
    "    def __init__(self, obj):\n",
    "        self._object = obj\n",
    "        self._counter = Counter()\n",
    "    def __getattr__(self, attr):\n",
    "        self._counter[attr] += 1\n",
    "        return getattr(self._object, attr)"
   ]
  },
  {
   "cell_type": "markdown",
   "metadata": {},
   "source": [
    "## Grid Problem"
   ]
  },
  {
   "cell_type": "code",
   "execution_count": 333,
   "metadata": {},
   "outputs": [],
   "source": [
    "class GridProblem(Problem):\n",
    "    \"Create with a call like GridProblem(grid=Grid(10, 10), initial=(0, 0), goal=(9, 9))\"\n",
    "    def actions(self, state): return DIRECTIONS\n",
    "    def result(self, state, action):\n",
    "        #print('ask for result of', state, action)\n",
    "        (x, y) = state\n",
    "        (dx, dy) = action\n",
    "        r = (x + dx, y + dy)\n",
    "        return r if r in self.grid[state] else state"
   ]
  },
  {
   "cell_type": "code",
   "execution_count": 362,
   "metadata": {},
   "outputs": [],
   "source": [
    "gp = GridProblem(grid=Grid(5, 5, 0.0), initial=(0, 0), goals={(4, 4)})"
   ]
  },
  {
   "cell_type": "markdown",
   "metadata": {},
   "source": [
    "## Applying the search algorithms to the Grid Problem"
   ]
  },
  {
   "cell_type": "code",
   "execution_count": 363,
   "metadata": {},
   "outputs": [
    {
     "name": "stdout",
     "output_type": "stream",
     "text": [
      "\n",
      "breadth_first_search:\n",
      "  (0, 0) ==(0, 1)==> (0, 1); cost 1 after 1 steps\n",
      "  (0, 1) ==(0, 1)==> (0, 2); cost 2 after 2 steps\n",
      "  (0, 2) ==(0, 1)==> (0, 3); cost 3 after 3 steps\n",
      "  (0, 3) ==(0, 1)==> (0, 4); cost 4 after 4 steps\n",
      "  (0, 4) ==(1, 0)==> (1, 4); cost 5 after 5 steps\n",
      "  (1, 4) ==(1, 0)==> (2, 4); cost 6 after 6 steps\n",
      "  (2, 4) ==(1, 0)==> (3, 4); cost 7 after 7 steps\n",
      "  (3, 4) ==(1, 0)==> (4, 4); cost 8 after 8 steps\n",
      "GOAL FOUND after 99 results and 33 goal checks\n"
     ]
    }
   ],
   "source": [
    "# %%timeit\n",
    "showpath(breadth_first_search, gp)"
   ]
  },
  {
   "cell_type": "code",
   "execution_count": 364,
   "metadata": {},
   "outputs": [
    {
     "name": "stdout",
     "output_type": "stream",
     "text": [
      "\n",
      "uniform_cost_search:\n",
      "  (0, 0) ==(0, 1)==> (0, 1); cost 1 after 1 steps\n",
      "  (0, 1) ==(0, 1)==> (0, 2); cost 2 after 2 steps\n",
      "  (0, 2) ==(1, 0)==> (1, 2); cost 3 after 3 steps\n",
      "  (1, 2) ==(1, 0)==> (2, 2); cost 4 after 4 steps\n",
      "  (2, 2) ==(1, 0)==> (3, 2); cost 5 after 5 steps\n",
      "  (3, 2) ==(0, 1)==> (3, 3); cost 6 after 6 steps\n",
      "  (3, 3) ==(1, 0)==> (4, 3); cost 7 after 7 steps\n",
      "  (4, 3) ==(0, 1)==> (4, 4); cost 8 after 8 steps\n",
      "GOAL FOUND after 732 results and 190 goal checks\n"
     ]
    }
   ],
   "source": [
    "showpath(uniform_cost_search, gp)"
   ]
  },
  {
   "cell_type": "markdown",
   "metadata": {},
   "source": [
    "## Heuristic"
   ]
  },
  {
   "cell_type": "code",
   "execution_count": 365,
   "metadata": {},
   "outputs": [],
   "source": [
    "def manhattan(node, goals):    \n",
    "    mhd = 0\n",
    "\n",
    "    goal = goals.pop()\n",
    "    goals.add(goal)\n",
    "\n",
    "    for j in range(2):\n",
    "        mhd = abs(goal[j] - node.state[j]) + mhd\n",
    "\n",
    "    return mhd"
   ]
  },
  {
   "cell_type": "code",
   "execution_count": 366,
   "metadata": {},
   "outputs": [],
   "source": [
    "# astar_search(gp, manhattan)"
   ]
  },
  {
   "cell_type": "code",
   "execution_count": 367,
   "metadata": {},
   "outputs": [
    {
     "name": "stdout",
     "output_type": "stream",
     "text": [
      "\n",
      "astar_search:\n",
      "  (0, 0) ==(0, 1)==> (0, 1); cost 1 after 1 steps\n",
      "  (0, 1) ==(0, 1)==> (0, 2); cost 2 after 2 steps\n",
      "  (0, 2) ==(1, 0)==> (1, 2); cost 3 after 3 steps\n",
      "  (1, 2) ==(1, 0)==> (2, 2); cost 4 after 4 steps\n",
      "  (2, 2) ==(1, 0)==> (3, 2); cost 5 after 5 steps\n",
      "  (3, 2) ==(0, 1)==> (3, 3); cost 6 after 6 steps\n",
      "  (3, 3) ==(1, 0)==> (4, 3); cost 7 after 7 steps\n",
      "  (4, 3) ==(0, 1)==> (4, 4); cost 8 after 8 steps\n",
      "GOAL FOUND after 732 results and 190 goal checks\n"
     ]
    }
   ],
   "source": [
    "showpath_heuristic(astar_search, gp, manhattan)"
   ]
  },
  {
   "cell_type": "code",
   "execution_count": 368,
   "metadata": {},
   "outputs": [
    {
     "name": "stdout",
     "output_type": "stream",
     "text": [
      "\n",
      "best_first_search:\n",
      "  (0, 0) ==(0, 1)==> (0, 1); cost 1 after 1 steps\n",
      "  (0, 1) ==(0, 1)==> (0, 2); cost 2 after 2 steps\n",
      "  (0, 2) ==(0, 1)==> (0, 3); cost 3 after 3 steps\n",
      "  (0, 3) ==(0, 1)==> (0, 4); cost 4 after 4 steps\n",
      "  (0, 4) ==(1, 0)==> (1, 4); cost 5 after 5 steps\n",
      "  (1, 4) ==(1, 0)==> (2, 4); cost 6 after 6 steps\n",
      "  (2, 4) ==(1, 0)==> (3, 4); cost 7 after 7 steps\n",
      "  (3, 4) ==(1, 0)==> (4, 4); cost 8 after 8 steps\n",
      "GOAL FOUND after 40 results and 17 goal checks\n"
     ]
    }
   ],
   "source": [
    "showpath_heuristic(best_first_search, gp, manhattan)"
   ]
  },
  {
   "cell_type": "code",
   "execution_count": 369,
   "metadata": {},
   "outputs": [
    {
     "name": "stdout",
     "output_type": "stream",
     "text": [
      "\n",
      "hill_climbing:\n",
      "  (0, 0) ==(0, 1)==> (0, 1); cost 1 after 1 steps\n",
      "  (0, 1) ==(0, 1)==> (0, 2); cost 2 after 2 steps\n",
      "  (0, 2) ==(0, 1)==> (0, 3); cost 3 after 3 steps\n",
      "  (0, 3) ==(0, 1)==> (0, 4); cost 4 after 4 steps\n",
      "  (0, 4) ==(1, 0)==> (1, 4); cost 5 after 5 steps\n",
      "  (1, 4) ==(1, 0)==> (2, 4); cost 6 after 6 steps\n",
      "  (2, 4) ==(1, 0)==> (3, 4); cost 7 after 7 steps\n",
      "  (3, 4) ==(1, 0)==> (4, 4); cost 8 after 8 steps\n",
      "GOAL FOUND after 40 results and 17 goal checks\n"
     ]
    }
   ],
   "source": [
    "showpath_heuristic(hill_climbing, gp, manhattan)"
   ]
  },
  {
   "cell_type": "markdown",
   "metadata": {},
   "source": [
    "## Part 2: Implementing a modified search strategy which uses hill climbing in alternate steps and beam search with beam width 3 for the remaining steps"
   ]
  },
  {
   "cell_type": "code",
   "execution_count": 370,
   "metadata": {},
   "outputs": [],
   "source": [
    "heuristic = manhattan"
   ]
  },
  {
   "cell_type": "code",
   "execution_count": 371,
   "metadata": {},
   "outputs": [],
   "source": [
    "def hill_climbing_beam_search_mix(problem, costfn=lambda node: node.path_cost):\n",
    "    hill = 1 # start with hill climbing in the first step        \n",
    "    \n",
    "    frontier = FrontierPQ(Node(problem.initial), costfn)\n",
    "    explored = set()\n",
    "    while frontier:\n",
    "        node = frontier.pop()\n",
    "        if problem.is_goal(node.state):\n",
    "            return node\n",
    "        explored.add(node.state)\n",
    "        \n",
    "        if (hill == 1): # hill climbing\n",
    "            next_possible = []\n",
    "            for action in problem.actions(node.state):\n",
    "                child = node.child(problem, action)\n",
    "                if child.state not in explored:\n",
    "                    if (len(next_possible) == 0):\n",
    "                        next_possible.append(child)\n",
    "                        best_heuristic = heuristic(child, problem.goals)\n",
    "                    else:\n",
    "                        if (heuristic(child, problem.goals) < best_heuristic):\n",
    "                            best_heuristic = heuristic(child, problem.goals)\n",
    "                            next_possible = [child]\n",
    "            if(len(next_possible) == 0):\n",
    "                break\n",
    "            frontier.add(next_possible[0])\n",
    "            hill = 0\n",
    "        else:\n",
    "            # beam search with width 3\n",
    "            for action in problem.actions(node.state):\n",
    "                child = node.child(problem, action)\n",
    "                if child.state not in explored and child not in frontier:\n",
    "                    frontier.add(child)\n",
    "                elif child in frontier and frontier.cost[child] < child.path_cost:\n",
    "                    frontier.replace(child)\n",
    "            \n",
    "            # keep only the best 3 out of all child added to the frontier\n",
    "            next_possible = []\n",
    "            for i in range(3):\n",
    "                if (frontier):\n",
    "                    next_possible.append(frontier.pop())\n",
    "            while frontier:\n",
    "                keep_popping = frontier.pop()\n",
    "            for n in next_possible:\n",
    "                frontier.add(n)\n",
    "            hill = 1\n",
    "        print(\"next_possible:\", next_possible)"
   ]
  },
  {
   "cell_type": "code",
   "execution_count": 372,
   "metadata": {},
   "outputs": [],
   "source": [
    "def hybrid_search(problem, heuristic):\n",
    "    costfn = lambda node: heuristic(node, problem.goals)\n",
    "    return hill_climbing_beam_search_mix(problem, costfn)"
   ]
  },
  {
   "cell_type": "code",
   "execution_count": 373,
   "metadata": {},
   "outputs": [
    {
     "name": "stdout",
     "output_type": "stream",
     "text": [
      "\n",
      "hybrid_search:\n",
      "next_possible: [<Node (0, 1): 1>]\n",
      "next_possible: [<Node (0, 2): 2>, <Node (1, 1): 2>]\n",
      "next_possible: [<Node (0, 3): 3>]\n",
      "next_possible: [<Node (0, 4): 4>, <Node (1, 3): 4>, <Node (1, 1): 2>]\n",
      "next_possible: [<Node (1, 4): 5>]\n",
      "next_possible: [<Node (2, 4): 6>, <Node (1, 3): 4>, <Node (1, 3): 6>]\n",
      "next_possible: [<Node (3, 4): 7>]\n",
      "next_possible: [<Node (4, 4): 8>, <Node (3, 3): 8>, <Node (1, 3): 4>]\n",
      "  (0, 0) ==(0, 1)==> (0, 1); cost 1 after 1 steps\n",
      "  (0, 1) ==(0, 1)==> (0, 2); cost 2 after 2 steps\n",
      "  (0, 2) ==(0, 1)==> (0, 3); cost 3 after 3 steps\n",
      "  (0, 3) ==(0, 1)==> (0, 4); cost 4 after 4 steps\n",
      "  (0, 4) ==(1, 0)==> (1, 4); cost 5 after 5 steps\n",
      "  (1, 4) ==(1, 0)==> (2, 4); cost 6 after 6 steps\n",
      "  (2, 4) ==(1, 0)==> (3, 4); cost 7 after 7 steps\n",
      "  (3, 4) ==(1, 0)==> (4, 4); cost 8 after 8 steps\n",
      "GOAL FOUND after 40 results and 17 goal checks\n"
     ]
    }
   ],
   "source": [
    "showpath_heuristic(hybrid_search, gp, manhattan)"
   ]
  },
  {
   "cell_type": "code",
   "execution_count": null,
   "metadata": {},
   "outputs": [],
   "source": []
  }
 ],
 "metadata": {
  "kernelspec": {
   "display_name": "Python 3",
   "language": "python",
   "name": "python3"
  },
  "language_info": {
   "codemirror_mode": {
    "name": "ipython",
    "version": 3
   },
   "file_extension": ".py",
   "mimetype": "text/x-python",
   "name": "python",
   "nbconvert_exporter": "python",
   "pygments_lexer": "ipython3",
   "version": "3.6.5"
  }
 },
 "nbformat": 4,
 "nbformat_minor": 2
}
