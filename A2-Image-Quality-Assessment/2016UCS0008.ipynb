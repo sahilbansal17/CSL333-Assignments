{
 "cells": [
  {
   "cell_type": "code",
   "execution_count": 109,
   "metadata": {},
   "outputs": [],
   "source": [
    "import numpy as np\n",
    "import scipy.io\n",
    "import scipy.stats\n",
    "import cv2\n",
    "from sklearn.svm import SVR\n",
    "from sklearn.model_selection import train_test_split\n",
    "from os import listdir"
   ]
  },
  {
   "cell_type": "markdown",
   "metadata": {},
   "source": [
    "## Demo for SVD"
   ]
  },
  {
   "cell_type": "code",
   "execution_count": 3,
   "metadata": {},
   "outputs": [],
   "source": [
    "A = [[1, 2, 3], [4, 5, 6], [7, 8, 9]] # matrix for the demo"
   ]
  },
  {
   "cell_type": "code",
   "execution_count": 4,
   "metadata": {},
   "outputs": [
    {
     "name": "stdout",
     "output_type": "stream",
     "text": [
      "Matrix u is:\n",
      " [[-0.21483724  0.88723069  0.40824829]\n",
      " [-0.52058739  0.24964395 -0.81649658]\n",
      " [-0.82633754 -0.38794278  0.40824829]] \n",
      "\n",
      "Matrix s is:\n",
      " [1.68481034e+01 1.06836951e+00 3.33475287e-16] \n",
      "\n",
      "Matrix v is:\n",
      " [[-0.47967118 -0.57236779 -0.66506441]\n",
      " [-0.77669099 -0.07568647  0.62531805]\n",
      " [-0.40824829  0.81649658 -0.40824829]] \n",
      "\n"
     ]
    }
   ],
   "source": [
    "u, s, v = np.linalg.svd(A) # A = u.s.v'\n",
    "print(\"Matrix u is:\\n\", u, \"\\n\")\n",
    "print(\"Matrix s is:\\n\", s, \"\\n\")\n",
    "print(\"Matrix v is:\\n\", v, \"\\n\")"
   ]
  },
  {
   "cell_type": "markdown",
   "metadata": {},
   "source": [
    "### Demo for numpy functions"
   ]
  },
  {
   "cell_type": "code",
   "execution_count": 5,
   "metadata": {},
   "outputs": [
    {
     "name": "stdout",
     "output_type": "stream",
     "text": [
      "X1 is: \n",
      " [0. 1. 2. 3. 4. 5. 6. 7. 8.]\n"
     ]
    }
   ],
   "source": [
    "# numpy.add\n",
    "x1 = np.arange(9.0)\n",
    "print(\"X1 is: \\n\", x1)"
   ]
  },
  {
   "cell_type": "code",
   "execution_count": 6,
   "metadata": {},
   "outputs": [
    {
     "name": "stdout",
     "output_type": "stream",
     "text": [
      "X2 is: \n",
      " [[0. 1. 2.]\n",
      " [3. 4. 5.]\n",
      " [6. 7. 8.]]\n"
     ]
    }
   ],
   "source": [
    "x2 = x1.reshape(3, 3)\n",
    "print(\"X2 is: \\n\", x2)"
   ]
  },
  {
   "cell_type": "code",
   "execution_count": 7,
   "metadata": {},
   "outputs": [
    {
     "name": "stdout",
     "output_type": "stream",
     "text": [
      "X3 is: \n",
      " [0. 1. 2.]\n"
     ]
    }
   ],
   "source": [
    "x3 = np.arange(3.0)\n",
    "print(\"X3 is: \\n\", x3)"
   ]
  },
  {
   "cell_type": "code",
   "execution_count": 8,
   "metadata": {},
   "outputs": [
    {
     "name": "stdout",
     "output_type": "stream",
     "text": [
      "X2 + X3 is:\n",
      " [[ 0.  2.  4.]\n",
      " [ 3.  5.  7.]\n",
      " [ 6.  8. 10.]]\n"
     ]
    }
   ],
   "source": [
    "print(\"X2 + X3 is:\\n\", np.add(x2, x3))"
   ]
  },
  {
   "cell_type": "code",
   "execution_count": 9,
   "metadata": {},
   "outputs": [
    {
     "name": "stdout",
     "output_type": "stream",
     "text": [
      "X4 is:\n",
      " [-1.+1.j -1.+0.j  0.+0.j  3.+0.j]\n"
     ]
    }
   ],
   "source": [
    "x4 = np.array([-1+1j, -1, 0, 3])\n",
    "print(\"X4 is:\\n\", x4)"
   ]
  },
  {
   "cell_type": "code",
   "execution_count": 10,
   "metadata": {},
   "outputs": [
    {
     "name": "stdout",
     "output_type": "stream",
     "text": [
      "X5 is:\n",
      " [1.41421356 1.         0.         3.        ]\n"
     ]
    }
   ],
   "source": [
    "x5 = np.absolute(x4)\n",
    "print(\"X5 is:\\n\", x5)"
   ]
  },
  {
   "cell_type": "code",
   "execution_count": 11,
   "metadata": {},
   "outputs": [
    {
     "name": "stdout",
     "output_type": "stream",
     "text": [
      "X6 is:\n",
      " 5.414213562373095\n"
     ]
    }
   ],
   "source": [
    "x6 = np.sum(x5)\n",
    "print(\"X6 is:\\n\", x6)"
   ]
  },
  {
   "cell_type": "code",
   "execution_count": 12,
   "metadata": {},
   "outputs": [
    {
     "name": "stdout",
     "output_type": "stream",
     "text": [
      "X7 is:\n",
      " [[1.+1.j 0.+0.j 0.+0.j]\n",
      " [0.+0.j 1.+1.j 0.+0.j]\n",
      " [0.+0.j 0.+0.j 1.+1.j]]\n"
     ]
    }
   ],
   "source": [
    "x7 = np.eye(3) + 1j * np.eye(3)\n",
    "print(\"X7 is:\\n\", x7)"
   ]
  },
  {
   "cell_type": "code",
   "execution_count": 13,
   "metadata": {},
   "outputs": [
    {
     "name": "stdout",
     "output_type": "stream",
     "text": [
      "X8 is:\n",
      " [[1.-1.j 0.-0.j 0.-0.j]\n",
      " [0.-0.j 1.-1.j 0.-0.j]\n",
      " [0.-0.j 0.-0.j 1.-1.j]]\n"
     ]
    }
   ],
   "source": [
    "x8 = np.conjugate(x7)\n",
    "print(\"X8 is:\\n\", x8)"
   ]
  },
  {
   "cell_type": "markdown",
   "metadata": {},
   "source": [
    "### Extracting the feature vectors of the image using its reference image by SVD"
   ]
  },
  {
   "cell_type": "code",
   "execution_count": 14,
   "metadata": {},
   "outputs": [],
   "source": [
    "# exploiting the vectorization methods already included in the numpy library\n",
    "def get_feature_vector_2(ref_image, pred_image):\n",
    "    u_r, s_r, v_r = np.linalg.svd(ref_image[:400, :400])\n",
    "    u_p, s_p, v_p = np.linalg.svd(pred_image[:400, :400])\n",
    "    feature_vec = np.add(np.absolute(np.sum(u_r.conj()*u_p, axis=0)), np.absolute(np.sum(v_r.conj()*v_p, axis=0)))\n",
    "    return feature_vec"
   ]
  },
  {
   "cell_type": "markdown",
   "metadata": {},
   "source": [
    "### Load the .mat files "
   ]
  },
  {
   "cell_type": "code",
   "execution_count": 31,
   "metadata": {},
   "outputs": [],
   "source": [
    "dmos_mat = scipy.io.loadmat('Live Database/databaserelease2/dmos.mat')\n",
    "ref_names = scipy.io.loadmat('Live Database/databaserelease2/refnames_all.mat')\n",
    "\n",
    "# extraxt the arrays from the loaded mat files\n",
    "refnames_all = ref_names['refnames_all']\n",
    "orgs = dmos_mat['orgs']\n",
    "dmos = dmos_mat['dmos']"
   ]
  },
  {
   "cell_type": "markdown",
   "metadata": {},
   "source": [
    "### Load the reference images"
   ]
  },
  {
   "cell_type": "code",
   "execution_count": 46,
   "metadata": {},
   "outputs": [],
   "source": [
    "ref_images_names = listdir(\"Live Database/databaserelease2/refimgs/\")\n",
    "# print(ref_images_names)\n",
    "ref_images = {} # load the images in this dictionary\n",
    "ref_images_count = len(ref_images_names)\n",
    "for i in range(ref_images_count):\n",
    "    ref_images[ref_images_names[i]] = cv2.imread('Live Database/databaserelease2/refimgs/' + str(ref_images_names[i]), 0)\n",
    "    \n"
   ]
  },
  {
   "cell_type": "markdown",
   "metadata": {},
   "source": [
    "### Create the feature vector"
   ]
  },
  {
   "cell_type": "code",
   "execution_count": 64,
   "metadata": {},
   "outputs": [],
   "source": [
    "X = []\n",
    "folders = ['jp2k', 'jpeg', 'wn', 'gblur', 'fastfading']\n",
    "images = [227, 233, 174, 174, 174]\n",
    "done = 0"
   ]
  },
  {
   "cell_type": "code",
   "execution_count": 65,
   "metadata": {},
   "outputs": [],
   "source": [
    "for f in range(len(folders)):\n",
    "    for i in range(images[f]):\n",
    "        path = 'Live Database/databaserelease2/'+ folders[f] + '/img' + str(i + 1) + '.bmp'\n",
    "        img_p = cv2.imread(path, 0)\n",
    "        ref = refnames_all[:, done + i]\n",
    "        img = ref_images[ref[0][0]]\n",
    "        feature_vector = get_feature_vector_2(img, img_p)\n",
    "        X.append(feature_vector)\n",
    "    done += images[f]"
   ]
  },
  {
   "cell_type": "code",
   "execution_count": 68,
   "metadata": {},
   "outputs": [
    {
     "name": "stdout",
     "output_type": "stream",
     "text": [
      "[array(['sailing4.bmp'], dtype='<U12')]\n",
      "sailing4.bmp\n",
      "982\n"
     ]
    }
   ],
   "source": [
    "print(ref)\n",
    "print(ref[0][0])\n",
    "print(done)"
   ]
  },
  {
   "cell_type": "code",
   "execution_count": 90,
   "metadata": {},
   "outputs": [],
   "source": [
    "X = np.array(X)\n",
    "Y = dmos[0] # Create the output DMOS matrix for the features"
   ]
  },
  {
   "cell_type": "markdown",
   "metadata": {},
   "source": [
    "### Split into training and testing data"
   ]
  },
  {
   "cell_type": "code",
   "execution_count": 94,
   "metadata": {},
   "outputs": [],
   "source": [
    "X_train, X_test, Y_train, Y_test = train_test_split(X, Y, test_size = 0.2)"
   ]
  },
  {
   "cell_type": "markdown",
   "metadata": {},
   "source": [
    "### Create the SVR classifier, fit on train data, predict on test data"
   ]
  },
  {
   "cell_type": "code",
   "execution_count": 105,
   "metadata": {},
   "outputs": [],
   "source": [
    "clf = SVR(C = 1.0, epsilon = 0.1)"
   ]
  },
  {
   "cell_type": "code",
   "execution_count": 106,
   "metadata": {},
   "outputs": [
    {
     "data": {
      "text/plain": [
       "SVR(C=1.0, cache_size=200, coef0=0.0, degree=3, epsilon=0.1, gamma='auto',\n",
       "  kernel='rbf', max_iter=-1, shrinking=True, tol=0.001, verbose=False)"
      ]
     },
     "execution_count": 106,
     "metadata": {},
     "output_type": "execute_result"
    }
   ],
   "source": [
    "clf.fit(X_train, Y_train)"
   ]
  },
  {
   "cell_type": "code",
   "execution_count": 107,
   "metadata": {},
   "outputs": [],
   "source": [
    "Y_pred = clf.predict(X_test)"
   ]
  },
  {
   "cell_type": "markdown",
   "metadata": {},
   "source": [
    "### Compute the value of PLCC"
   ]
  },
  {
   "cell_type": "code",
   "execution_count": 110,
   "metadata": {},
   "outputs": [
    {
     "name": "stdout",
     "output_type": "stream",
     "text": [
      "0.9276287906340326 2.4326823632934688e-85\n"
     ]
    }
   ],
   "source": [
    "plcc, pval = scipy.stats.pearsonr(Y_test, Y_pred)\n",
    "print(plcc, pval)"
   ]
  },
  {
   "cell_type": "markdown",
   "metadata": {},
   "source": [
    "### Dump the results in csv file"
   ]
  },
  {
   "cell_type": "code",
   "execution_count": 111,
   "metadata": {},
   "outputs": [],
   "source": []
  }
 ],
 "metadata": {
  "kernelspec": {
   "display_name": "Python 3",
   "language": "python",
   "name": "python3"
  },
  "language_info": {
   "codemirror_mode": {
    "name": "ipython",
    "version": 3
   },
   "file_extension": ".py",
   "mimetype": "text/x-python",
   "name": "python",
   "nbconvert_exporter": "python",
   "pygments_lexer": "ipython3",
   "version": "3.6.5"
  }
 },
 "nbformat": 4,
 "nbformat_minor": 2
}
